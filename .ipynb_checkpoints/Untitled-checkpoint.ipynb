{
 "cells": [
  {
   "cell_type": "markdown",
   "id": "ce40974a-7116-46ed-8176-073339af42ff",
   "metadata": {},
   "source": [
    "# 3D Visualization and volume estimation of polluted soil"
   ]
  },
  {
   "cell_type": "markdown",
   "id": "8b2b5986-3deb-42b5-93b7-11db83717910",
   "metadata": {},
   "source": [
    "# Import libraries and define directory"
   ]
  },
  {
   "cell_type": "code",
   "execution_count": 11,
   "id": "5c31c094-b777-4a2f-9ce4-4ee8a931e66d",
   "metadata": {},
   "outputs": [],
   "source": [
    "# Import Libraries\n",
    "from pathlib import Path\n",
    "import os\n",
    "import pandas as pd\n",
    "import numpy as np\n",
    "from scipy.interpolate import griddata\n",
    "import plotly.graph_objs as go\n",
    "import math\n",
    "import plotly.offline as pyo\n",
    "\n",
    "# Set directory to where the data file is located\n",
    "files_directory = Path().resolve()\n",
    "os.chdir(files_directory)\n"
   ]
  },
  {
   "cell_type": "markdown",
   "id": "07f7fb6b-bbc7-4603-8c9c-a7258a2902f6",
   "metadata": {},
   "source": [
    "## Load data"
   ]
  },
  {
   "cell_type": "code",
   "execution_count": 12,
   "id": "276495da-1812-48df-9baf-33c37b84f85c",
   "metadata": {},
   "outputs": [
    {
     "name": "stdout",
     "output_type": "stream",
     "text": [
      "                ID          X           Y  PROF     HFL     HFM      HFP  \\\n",
      "0  SPCP209-27 0.2   392203.00  2015577.00   0.2    0.00     0.0     0.00   \n",
      "1  SPCP209-15 0.2   392097.16  2015541.05   0.2    0.00     0.0     0.00   \n",
      "2  SPCP209-20 0.2   392105.70  2015588.27   0.2    0.00     0.0     0.00   \n",
      "3  SPCP209-10 0.2   392097.16  2015541.05   0.2  122.81  2624.6  9247.28   \n",
      "4   SPCP209-9 0.2   392069.16  2015541.05   0.2    0.00     0.0     0.00   \n",
      "\n",
      "   BTEX  HAP  \n",
      "0     0    0  \n",
      "1     0    0  \n",
      "2     0    0  \n",
      "3     0    0  \n",
      "4     0    0  \n"
     ]
    }
   ],
   "source": [
    "# Load data file\n",
    "data = pd.read_excel('data36.xlsx')  # Make sure 'data49.xlsx' is in the same directory\n",
    "print(data.head())  # Display first few rows of data"
   ]
  },
  {
   "cell_type": "markdown",
   "id": "1ca2d81a-07f5-451a-a039-29724c249269",
   "metadata": {},
   "source": [
    "# Define relevant variables"
   ]
  },
  {
   "cell_type": "code",
   "execution_count": 13,
   "id": "fd5bf205-8323-4316-a2a0-93f9293d3736",
   "metadata": {},
   "outputs": [],
   "source": [
    "# Define key variables\n",
    "x = data['X'].values  # UTM X coordinate\n",
    "y = data['Y'].values  # UTM Y coordinate\n",
    "z = data['PROF'].values * -1  # Depth values (inverted)\n",
    "pollutant_concentration = data['HFP'].values  # Pollutant concentration\n",
    "MPL = 3000  # Maximum Permissible Limit (MPL) as per Mexican regulations"
   ]
  },
  {
   "cell_type": "markdown",
   "id": "9df42c3a-febd-4903-ac2d-c6e0dd5fc28b",
   "metadata": {},
   "source": [
    "# Generate 3D grid"
   ]
  },
  {
   "cell_type": "code",
   "execution_count": 14,
   "id": "c0c50421-928c-4cc3-9323-deb634e08031",
   "metadata": {},
   "outputs": [],
   "source": [
    "# Create a 3D grid\n",
    "grid_x, grid_y, grid_z = np.mgrid[\n",
    "    min(x):max(x):1,\n",
    "    min(y):max(y):1,\n",
    "    min(z):0:0.1\n",
    "]"
   ]
  },
  {
   "cell_type": "markdown",
   "id": "f097c5da-ad67-4c81-8151-e57d12e3f2e5",
   "metadata": {},
   "source": [
    "## Interpolate data on the 3D grid"
   ]
  },
  {
   "cell_type": "code",
   "execution_count": 15,
   "id": "40e6bef2-30fa-4de0-8bd5-2ed2dc6f2b6f",
   "metadata": {},
   "outputs": [],
   "source": [
    "# Interpolation\n",
    "grid_pollutant = griddata((x, y, z), pollutant_concentration, (grid_x, grid_y, grid_z), method='linear')"
   ]
  },
  {
   "cell_type": "markdown",
   "id": "95a2c662-ada0-4e77-a69b-ec7a4f106734",
   "metadata": {},
   "source": [
    "# 3D visualization of pollutant distribution"
   ]
  },
  {
   "cell_type": "code",
   "execution_count": null,
   "id": "52a68d23-b679-4829-94c9-4ddb271df645",
   "metadata": {},
   "outputs": [],
   "source": [
    "# 3D Visualization\n",
    "max_plot = math.ceil(pollutant_concentration.max() / MPL) * MPL\n",
    "fig = go.Figure(data=go.Volume(\n",
    "    x=grid_x.flatten(),\n",
    "    y=grid_y.flatten(),\n",
    "    z=grid_z.flatten(),\n",
    "    value=grid_pollutant.flatten(),\n",
    "    isomin=0,\n",
    "    isomax=max_plot,\n",
    "    opacity=0.5,\n",
    "    surface_count=int(max_plot / MPL)\n",
    "))\n",
    "\n",
    "# Set aspect ratio\n",
    "x_range = max(x) - min(x)\n",
    "y_range = max(y) - min(y)\n",
    "ratio_y = y_range / x_range\n",
    "\n",
    "# Configure figure layout\n",
    "fig.update_layout(\n",
    "    scene=dict(\n",
    "        xaxis_title='UTM X (m)',\n",
    "        yaxis_title='UTM Y (m)',\n",
    "        zaxis_title='Depth (m)'\n",
    "    ),\n",
    "    scene_aspectmode='manual',\n",
    "    scene_aspectratio=dict(x=1, y=ratio_y, z=0.25),\n",
    "    title='Pollutant in soil'\n",
    ")\n",
    "fig.show()"
   ]
  },
  {
   "cell_type": "markdown",
   "id": "6ba5f7d9-5c94-4129-8dc0-abb71d970689",
   "metadata": {},
   "source": [
    "# Estimation of polluted volume"
   ]
  },
  {
   "cell_type": "code",
   "execution_count": 16,
   "id": "d3395053-e58f-48df-b98e-fa04244f491b",
   "metadata": {},
   "outputs": [
    {
     "name": "stdout",
     "output_type": "stream",
     "text": [
      "The soil volume with pollutant concentrations above MPL is: 2087.40 m^3\n"
     ]
    }
   ],
   "source": [
    "# Create a mask for cells with concentrations above MPL\n",
    "mask = grid_pollutant > MPL\n",
    "\n",
    "# Determine grid resolution\n",
    "delta_x = (max(x) - min(x)) / grid_x.shape[0]\n",
    "delta_y = (max(y) - min(y)) / grid_y.shape[1]\n",
    "delta_z = (max(z) - min(z)) / grid_z.shape[2]\n",
    "\n",
    "# Calculate cell volume\n",
    "volume_cell = delta_x * delta_y * delta_z\n",
    "\n",
    "# Count cells exceeding MPL and calculate total polluted volume\n",
    "num_cells_above = np.sum(mask)\n",
    "volume_total_above = num_cells_above * volume_cell\n",
    "\n",
    "print(f\"The soil volume with pollutant concentrations above MPL is: {volume_total_above:.2f} m^3\")"
   ]
  },
  {
   "cell_type": "markdown",
   "id": "67804a61-28ab-45ba-894c-214085bb9ab3",
   "metadata": {},
   "source": [
    "# Determine maximum contamination depth"
   ]
  },
  {
   "cell_type": "code",
   "execution_count": 17,
   "id": "92903ba3-4e9d-430a-af14-c7dbf9988855",
   "metadata": {},
   "outputs": [
    {
     "name": "stdout",
     "output_type": "stream",
     "text": [
      "Maximum depth with pollutant concentration above MPL: -2.40 meters\n"
     ]
    }
   ],
   "source": [
    "# Maximum contamination depth\n",
    "depths_above = grid_z[mask]\n",
    "maximum_depth = np.min(depths_above)\n",
    "\n",
    "print(f\"Maximum depth with pollutant concentration above MPL: {maximum_depth:.2f} meters\")"
   ]
  },
  {
   "cell_type": "markdown",
   "id": "3507fe88-7d6f-4219-805c-c006afb63974",
   "metadata": {},
   "source": [
    "# 3D visualization of polluted volume"
   ]
  },
  {
   "cell_type": "code",
   "execution_count": null,
   "id": "9d3a9f06-a505-429c-bac8-5c810f83d1a8",
   "metadata": {},
   "outputs": [],
   "source": [
    "# Visualization of polluted volume\n",
    "filtered_grid_x = grid_x[mask]\n",
    "filtered_grid_y = grid_y[mask]\n",
    "filtered_grid_z = grid_z[mask]\n",
    "filtered_pollutant = grid_pollutant[mask]\n",
    "\n",
    "fig_contaminated = go.Figure(data=go.Volume(\n",
    "    x=filtered_grid_x.flatten(),\n",
    "    y=filtered_grid_y.flatten(),\n",
    "    z=filtered_grid_z.flatten(),\n",
    "    value=filtered_pollutant.flatten(),\n",
    "    isomin=MPL,\n",
    "    isomax=max_plot,\n",
    "    opacity=0.5,\n",
    "    surface_count=int((max_plot - MPL) / MPL)\n",
    "))\n",
    "\n",
    "fig_contaminated.update_layout(\n",
    "    scene=dict(\n",
    "        xaxis_title='UTM X (m)',\n",
    "        yaxis_title='UTM Y (m)',\n",
    "        zaxis_title='Depth (m)'\n",
    "    ),\n",
    "    scene_aspectmode='manual',\n",
    "    scene_aspectratio=dict(x=1, y=ratio_y, z=0.25),\n",
    "    title=f'Polluted volume (pollutant concentrations > {MPL})'\n",
    ")\n",
    "fig_contaminated.show()"
   ]
  },
  {
   "cell_type": "markdown",
   "id": "e292473b-d659-4c23-9561-52f0d8a770b2",
   "metadata": {},
   "source": [
    "# Export visualization as HTML"
   ]
  },
  {
   "cell_type": "code",
   "execution_count": null,
   "id": "7c974bec-b95b-49d2-8f50-ac2650e898da",
   "metadata": {},
   "outputs": [],
   "source": [
    "# Save visualizations as HTML\n",
    "pyo.plot(fig, filename='volumetric_visualization.html', auto_open=False)\n",
    "pyo.plot(fig_contaminated, filename='polluted_visualization.html', auto_open=False)"
   ]
  }
 ],
 "metadata": {
  "kernelspec": {
   "display_name": "Python 3 (ipykernel)",
   "language": "python",
   "name": "python3"
  },
  "language_info": {
   "codemirror_mode": {
    "name": "ipython",
    "version": 3
   },
   "file_extension": ".py",
   "mimetype": "text/x-python",
   "name": "python",
   "nbconvert_exporter": "python",
   "pygments_lexer": "ipython3",
   "version": "3.12.4"
  }
 },
 "nbformat": 4,
 "nbformat_minor": 5
}
