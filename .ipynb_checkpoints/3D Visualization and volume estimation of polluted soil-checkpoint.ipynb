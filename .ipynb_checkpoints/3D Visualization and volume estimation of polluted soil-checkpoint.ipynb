{
 "cells": [
  {
   "cell_type": "markdown",
   "id": "8b2b5986-3deb-42b5-93b7-11db83717910",
   "metadata": {},
   "source": [
    "# Import libraries and define directory\n",
    "Loading necessary libraries and defininf the data file directory"
   ]
  },
  {
   "cell_type": "code",
   "execution_count": 52,
   "id": "5c31c094-b777-4a2f-9ce4-4ee8a931e66d",
   "metadata": {},
   "outputs": [],
   "source": [
    "# Import Libraries\n",
    "from pathlib import Path\n",
    "import os\n",
    "import pandas as pd\n",
    "import numpy as np\n",
    "from scipy.interpolate import griddata\n",
    "import plotly.graph_objs as go\n",
    "import math\n",
    "import plotly.offline as pyo\n",
    "\n",
    "# Set directory to where the data file is located\n",
    "files_directory = Path().resolve()\n",
    "os.chdir(files_directory)\n"
   ]
  },
  {
   "cell_type": "markdown",
   "id": "07f7fb6b-bbc7-4603-8c9c-a7258a2902f6",
   "metadata": {},
   "source": [
    "## Load data\n",
    "Load the data from the same directory of this code and inspect."
   ]
  },
  {
   "cell_type": "code",
   "execution_count": 133,
   "id": "276495da-1812-48df-9baf-33c37b84f85c",
   "metadata": {},
   "outputs": [
    {
     "name": "stdout",
     "output_type": "stream",
     "text": [
      "   ID                 Site Fraction        Y       X  Depth     As     Pb  \\\n",
      "0  A2  Oxide-rich tailings   Coarse  3302426  572657      1   6770  15400   \n",
      "1  A3  Oxide-rich tailings   Coarse  3302377  572762      1   4940   9720   \n",
      "2  B1  Oxide-rich tailings   Coarse  3302401  572646      1  31500  22000   \n",
      "3  B2  Oxide-rich tailings   Coarse  3302414  572673      1  25900  19300   \n",
      "4  B3  Oxide-rich tailings   Coarse  3302343  572756      1   6080  11900   \n",
      "\n",
      "       Zn      Fe     Mn      Ca    pH     CE  \n",
      "0    6120  271000  28100   58300  3.28  1.303  \n",
      "1   41500  172000  21600   75500  3.34  1.685  \n",
      "2  102000  272000  17600  155000  2.75  2.570  \n",
      "3   54700  292000  27300  163000  3.33  2.960  \n",
      "4   22100  185000  20300   73100  2.97  1.810  \n"
     ]
    }
   ],
   "source": [
    "# Load data file\n",
    "data_filename ='data.xlsx'\n",
    "data = pd.read_excel(data_filename, sheet_name = \"data analized\")\n",
    "print(data.head())  # Display first few rows of data"
   ]
  },
  {
   "cell_type": "markdown",
   "id": "1ca2d81a-07f5-451a-a039-29724c249269",
   "metadata": {},
   "source": [
    "# Define relevant variables\n",
    "Assign the name of columns for UTM X & Y coordinates, depth, pollutant concentration and its threshold value."
   ]
  },
  {
   "cell_type": "code",
   "execution_count": 134,
   "id": "fd5bf205-8323-4316-a2a0-93f9293d3736",
   "metadata": {},
   "outputs": [],
   "source": [
    "# Define key variables\n",
    "x_column = 'X'\n",
    "y_column = 'Y'\n",
    "z_column = 'Depth'\n",
    "pollutant_column = 'As'\n",
    "MPL = 22\n",
    "units = 'mg/kg'\n",
    "\n",
    "x = data[x_column].values  # UTM X coordinate\n",
    "y = data[y_column].values  # UTM Y coordinate\n",
    "z = data[z_column].values * -0.01  # Depth values (inverted)\n",
    "pollutant_concentration = data[pollutant_column].values  # Pollutant concentration\n",
    "\n",
    "points_x = x\n",
    "points_y = y\n",
    "points_z = z\n",
    "points_id = data['ID'].values #ID column"
   ]
  },
  {
   "cell_type": "markdown",
   "id": "9df42c3a-febd-4903-ac2d-c6e0dd5fc28b",
   "metadata": {},
   "source": [
    "# Generate 3D grid\n",
    "Generate a 3D grid to interpolate the data over the defined spatial region."
   ]
  },
  {
   "cell_type": "code",
   "execution_count": 135,
   "id": "c0c50421-928c-4cc3-9323-deb634e08031",
   "metadata": {},
   "outputs": [],
   "source": [
    "# Assign steps for x,y,z axis\n",
    "x_step = 1\n",
    "y_step = 1\n",
    "z_step = 0.05\n",
    "\n",
    "# Create a 3D grid\n",
    "grid_x, grid_y, grid_z = np.mgrid[\n",
    "    min(x):max(x):x_step,\n",
    "    min(y):max(y):y_step,\n",
    "    max(z):min(z)-abs(z_step):-z_step\n",
    "]"
   ]
  },
  {
   "cell_type": "markdown",
   "id": "f097c5da-ad67-4c81-8151-e57d12e3f2e5",
   "metadata": {},
   "source": [
    "## Interpolate data on the 3D grid\n",
    "Interpolate the pollutant data onto the 3D grid."
   ]
  },
  {
   "cell_type": "code",
   "execution_count": 136,
   "id": "40e6bef2-30fa-4de0-8bd5-2ed2dc6f2b6f",
   "metadata": {},
   "outputs": [],
   "source": [
    "# Interpolation method (linear or nearest)\n",
    "method = 'nearest'\n",
    "grid_pollutant = griddata((x, y, z), pollutant_concentration, (grid_x, grid_y, grid_z), method=method)"
   ]
  },
  {
   "cell_type": "markdown",
   "id": "95a2c662-ada0-4e77-a69b-ec7a4f106734",
   "metadata": {},
   "source": [
    "# 3D visualization of pollutant distribution\n",
    "Create a 3D visualization of the pollutant distribution using Plotly."
   ]
  },
  {
   "cell_type": "code",
   "execution_count": 137,
   "id": "0eb54339-aba8-41ca-b69b-8a19f23bcbe5",
   "metadata": {},
   "outputs": [],
   "source": [
    "#Plot titles\n",
    "x_title = 'E'\n",
    "y_title = 'N'\n",
    "z_title = 'Z'\n",
    "color_title = 'Concentración'\n",
    "title = 'HFM in soil'"
   ]
  },
  {
   "cell_type": "code",
   "execution_count": null,
   "id": "52a68d23-b679-4829-94c9-4ddb271df645",
   "metadata": {},
   "outputs": [],
   "source": [
    "# 3D Visualization\n",
    "max_plot = math.ceil(np.nanmax(pollutant_concentration) / MPL) * MPL\n",
    "\n",
    "# Grid\n",
    "fig = go.Figure(data=go.Volume(\n",
    "    x=grid_x.flatten(),\n",
    "    y=grid_y.flatten(),\n",
    "    z=grid_z.flatten(),\n",
    "    value=grid_pollutant.flatten(),\n",
    "    isomin=0,\n",
    "    isomax=max_plot,\n",
    "    opacity=0.2,\n",
    "    surface_count=int(max_plot/MPL)+1,\n",
    "    colorbar=dict(title=f\"{color_title} ({units})\"),\n",
    "    colorscale=\"bluered\"\n",
    "))\n",
    "\n",
    "#Sampling points\n",
    "fig.add_trace(go.Scatter3d(\n",
    "    x=points_x,\n",
    "    y=points_y,\n",
    "    z=points_z,\n",
    "    mode='markers',\n",
    "    marker=dict(\n",
    "        size=2,\n",
    "        color='black',\n",
    "        opacity=0.8\n",
    "    ),\n",
    "    showlegend=False,\n",
    "    text=points_id,\n",
    "    hoverinfo=\"text\"\n",
    "))\n",
    "\n",
    "# Set aspect ratio\n",
    "x_range = max(x) - min(x)\n",
    "y_range = max(y) - min(y)\n",
    "ratio_y = y_range / x_range\n",
    "\n",
    "# Configure figure layout\n",
    "fig.update_layout(\n",
    "    scene=dict(\n",
    "        xaxis_title=x_title,\n",
    "        yaxis_title=y_title,\n",
    "        zaxis_title=z_title,\n",
    "    ),\n",
    "    scene_aspectmode='manual',\n",
    "    scene_aspectratio=dict(x=1, y=ratio_y, z=0.25),\n",
    "    title=title\n",
    ")\n",
    "\n",
    "_ = None"
   ]
  },
  {
   "cell_type": "markdown",
   "id": "6ba5f7d9-5c94-4129-8dc0-abb71d970689",
   "metadata": {},
   "source": [
    "# Estimation of polluted volume\n",
    "Estimate the volume where the pollutant concentration exceeds the Maximum Permissible Limit (MPL)"
   ]
  },
  {
   "cell_type": "code",
   "execution_count": 139,
   "id": "d3395053-e58f-48df-b98e-fa04244f491b",
   "metadata": {},
   "outputs": [
    {
     "name": "stdout",
     "output_type": "stream",
     "text": [
      "The soil volume with pollutant concentrations above MPL is: 16672.89 m^3\n"
     ]
    }
   ],
   "source": [
    "# Create a mask for cells with concentrations above MPL\n",
    "mask = grid_pollutant > MPL\n",
    "\n",
    "# Determine grid resolution\n",
    "delta_x = (max(x) - min(x)) / grid_x.shape[0]\n",
    "delta_y = (max(y) - min(y)) / grid_y.shape[1]\n",
    "delta_z = (max(z) - min(z)) / grid_z.shape[2]\n",
    "\n",
    "# Calculate cell volume\n",
    "volume_cell = delta_x * delta_y * delta_z\n",
    "\n",
    "# Count cells exceeding MPL and calculate total polluted volume\n",
    "num_cells_above = np.sum(mask)\n",
    "volume_total_above = num_cells_above * volume_cell\n",
    "\n",
    "print(f\"The soil volume with pollutant concentrations above MPL is: {volume_total_above:.2f} m^3\")"
   ]
  },
  {
   "cell_type": "markdown",
   "id": "67804a61-28ab-45ba-894c-214085bb9ab3",
   "metadata": {},
   "source": [
    "# Determine maximum pollution depth\n",
    "Identify the maximum depth where pollutant concentration exceeds MPL."
   ]
  },
  {
   "cell_type": "code",
   "execution_count": 140,
   "id": "92903ba3-4e9d-430a-af14-c7dbf9988855",
   "metadata": {},
   "outputs": [
    {
     "name": "stdout",
     "output_type": "stream",
     "text": [
      "Maximum depth with pollutant concentration above MPL: -0.31 m\n"
     ]
    }
   ],
   "source": [
    "# Maximum pollution depth\n",
    "depths_above = grid_z[mask]\n",
    "maximum_depth = np.min(depths_above)\n",
    "\n",
    "print(f\"Maximum depth with pollutant concentration above MPL: {maximum_depth:.2f} m\")"
   ]
  },
  {
   "cell_type": "markdown",
   "id": "3507fe88-7d6f-4219-805c-c006afb63974",
   "metadata": {},
   "source": [
    "# 3D visualization of polluted volume\n",
    "Create a filtered 3D visualization showing only the volume exceeding MPL."
   ]
  },
  {
   "cell_type": "code",
   "execution_count": 141,
   "id": "4f955dd5-c2b0-41a8-9067-821ea04fa2bd",
   "metadata": {},
   "outputs": [],
   "source": [
    "# 3D Visualization\n",
    "max_plot = math.ceil(np.nanmax(pollutant_concentration) / MPL) * MPL\n",
    "\n",
    "fig_polluted = go.Figure(data=go.Volume(\n",
    "    x=grid_x.flatten(),\n",
    "    y=grid_y.flatten(),\n",
    "    z=grid_z.flatten(),\n",
    "    value=grid_pollutant.flatten(),\n",
    "    isomin=MPL,\n",
    "    isomax=max_plot,\n",
    "    opacity=0.25,\n",
    "    surface_count=int((max_plot-MPL)/MPL)+1,\n",
    "    colorbar=dict(title=f\"{color_title} ({units})\"),\n",
    "    colorscale=\"Sunset\"\n",
    "))\n",
    "\n",
    "#Sampling points\n",
    "fig_polluted.add_trace(go.Scatter3d(\n",
    "    x=points_x,\n",
    "    y=points_y,\n",
    "    z=points_z,\n",
    "    mode='markers',\n",
    "    marker=dict(\n",
    "        size=2,\n",
    "        color='black',\n",
    "        opacity=0.8\n",
    "    ),\n",
    "    showlegend=False,\n",
    "    text=points_id,\n",
    "    hoverinfo=\"text\"\n",
    "))\n",
    "\n",
    "# Set aspect ratio\n",
    "x_range = max(x) - min(x)\n",
    "y_range = max(y) - min(y)\n",
    "ratio_y = y_range / x_range\n",
    "\n",
    "# Configure figure layout\n",
    "fig_polluted.update_layout(\n",
    "    scene=dict(\n",
    "        xaxis_title=x_title,\n",
    "        yaxis_title=y_title,\n",
    "        zaxis_title=z_title,\n",
    "    ),\n",
    "    scene_aspectmode='manual',\n",
    "    scene_aspectratio=dict(x=1, y=ratio_y, z=0.25),\n",
    "    title=str(title)+'(>'+str(MPL)+')'\n",
    ")\n",
    "#fig_polluted.show()\n",
    "_ = None"
   ]
  },
  {
   "cell_type": "markdown",
   "id": "e292473b-d659-4c23-9561-52f0d8a770b2",
   "metadata": {},
   "source": [
    "# Export visualization as HTML\n",
    "Save the visualizations as HTML files."
   ]
  },
  {
   "cell_type": "code",
   "execution_count": 142,
   "id": "7c974bec-b95b-49d2-8f50-ac2650e898da",
   "metadata": {},
   "outputs": [
    {
     "data": {
      "text/plain": [
       "'polluted_visualization.html'"
      ]
     },
     "execution_count": 142,
     "metadata": {},
     "output_type": "execute_result"
    }
   ],
   "source": [
    "# Save visualizations as HTML\n",
    "pyo.plot(fig, filename='volumetric_visualization.html', auto_open=False)\n",
    "pyo.plot(fig_polluted, filename='polluted_visualization.html', auto_open=False)"
   ]
  }
 ],
 "metadata": {
  "kernelspec": {
   "display_name": "Python 3 (ipykernel)",
   "language": "python",
   "name": "python3"
  },
  "language_info": {
   "codemirror_mode": {
    "name": "ipython",
    "version": 3
   },
   "file_extension": ".py",
   "mimetype": "text/x-python",
   "name": "python",
   "nbconvert_exporter": "python",
   "pygments_lexer": "ipython3",
   "version": "3.12.5"
  }
 },
 "nbformat": 4,
 "nbformat_minor": 5
}
