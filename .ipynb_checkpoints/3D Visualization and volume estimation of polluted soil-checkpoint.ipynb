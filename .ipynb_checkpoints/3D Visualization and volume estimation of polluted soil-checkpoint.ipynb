{
 "cells": [
  {
   "cell_type": "markdown",
   "id": "8b2b5986-3deb-42b5-93b7-11db83717910",
   "metadata": {},
   "source": [
    "# Import libraries and define directory\n",
    "Loading necessary libraries and defininf the data file directory"
   ]
  },
  {
   "cell_type": "code",
   "execution_count": 1,
   "id": "5c31c094-b777-4a2f-9ce4-4ee8a931e66d",
   "metadata": {},
   "outputs": [],
   "source": [
    "# Import Libraries\n",
    "from pathlib import Path\n",
    "import os\n",
    "import pandas as pd\n",
    "import numpy as np\n",
    "from scipy.interpolate import griddata\n",
    "import plotly.graph_objs as go\n",
    "import math\n",
    "import plotly.offline as pyo\n",
    "import geopandas as gpd\n",
    "\n",
    "# Set directory to where the data file is located\n",
    "files_directory = Path().resolve()\n",
    "os.chdir(files_directory)\n"
   ]
  },
  {
   "cell_type": "markdown",
   "id": "07f7fb6b-bbc7-4603-8c9c-a7258a2902f6",
   "metadata": {},
   "source": [
    "## Load data\n",
    "Load the data from the same directory of this code and inspect."
   ]
  },
  {
   "cell_type": "code",
   "execution_count": 2,
   "id": "276495da-1812-48df-9baf-33c37b84f85c",
   "metadata": {},
   "outputs": [
    {
     "data": {
      "text/html": [
       "<div>\n",
       "<style scoped>\n",
       "    .dataframe tbody tr th:only-of-type {\n",
       "        vertical-align: middle;\n",
       "    }\n",
       "\n",
       "    .dataframe tbody tr th {\n",
       "        vertical-align: top;\n",
       "    }\n",
       "\n",
       "    .dataframe thead th {\n",
       "        text-align: right;\n",
       "    }\n",
       "</style>\n",
       "<table border=\"1\" class=\"dataframe\">\n",
       "  <thead>\n",
       "    <tr style=\"text-align: right;\">\n",
       "      <th></th>\n",
       "      <th>PROF</th>\n",
       "      <th>X</th>\n",
       "      <th>Y</th>\n",
       "      <th>HFL</th>\n",
       "      <th>HFM</th>\n",
       "      <th>HFP</th>\n",
       "      <th>BTEX</th>\n",
       "      <th>HAP</th>\n",
       "    </tr>\n",
       "  </thead>\n",
       "  <tbody>\n",
       "    <tr>\n",
       "      <th>count</th>\n",
       "      <td>97.000000</td>\n",
       "      <td>97.000000</td>\n",
       "      <td>9.700000e+01</td>\n",
       "      <td>97.0</td>\n",
       "      <td>97.0</td>\n",
       "      <td>97.000000</td>\n",
       "      <td>97.0</td>\n",
       "      <td>97.0</td>\n",
       "    </tr>\n",
       "    <tr>\n",
       "      <th>mean</th>\n",
       "      <td>0.774227</td>\n",
       "      <td>398739.938144</td>\n",
       "      <td>1.994644e+06</td>\n",
       "      <td>0.0</td>\n",
       "      <td>0.0</td>\n",
       "      <td>159.749794</td>\n",
       "      <td>0.0</td>\n",
       "      <td>0.0</td>\n",
       "    </tr>\n",
       "    <tr>\n",
       "      <th>std</th>\n",
       "      <td>0.596217</td>\n",
       "      <td>95.030786</td>\n",
       "      <td>3.991556e+01</td>\n",
       "      <td>0.0</td>\n",
       "      <td>0.0</td>\n",
       "      <td>775.157192</td>\n",
       "      <td>0.0</td>\n",
       "      <td>0.0</td>\n",
       "    </tr>\n",
       "    <tr>\n",
       "      <th>min</th>\n",
       "      <td>0.200000</td>\n",
       "      <td>398584.000000</td>\n",
       "      <td>1.994562e+06</td>\n",
       "      <td>0.0</td>\n",
       "      <td>0.0</td>\n",
       "      <td>0.000000</td>\n",
       "      <td>0.0</td>\n",
       "      <td>0.0</td>\n",
       "    </tr>\n",
       "    <tr>\n",
       "      <th>25%</th>\n",
       "      <td>0.200000</td>\n",
       "      <td>398657.000000</td>\n",
       "      <td>1.994614e+06</td>\n",
       "      <td>0.0</td>\n",
       "      <td>0.0</td>\n",
       "      <td>0.000000</td>\n",
       "      <td>0.0</td>\n",
       "      <td>0.0</td>\n",
       "    </tr>\n",
       "    <tr>\n",
       "      <th>50%</th>\n",
       "      <td>0.500000</td>\n",
       "      <td>398732.000000</td>\n",
       "      <td>1.994645e+06</td>\n",
       "      <td>0.0</td>\n",
       "      <td>0.0</td>\n",
       "      <td>0.000000</td>\n",
       "      <td>0.0</td>\n",
       "      <td>0.0</td>\n",
       "    </tr>\n",
       "    <tr>\n",
       "      <th>75%</th>\n",
       "      <td>1.500000</td>\n",
       "      <td>398823.000000</td>\n",
       "      <td>1.994684e+06</td>\n",
       "      <td>0.0</td>\n",
       "      <td>0.0</td>\n",
       "      <td>0.000000</td>\n",
       "      <td>0.0</td>\n",
       "      <td>0.0</td>\n",
       "    </tr>\n",
       "    <tr>\n",
       "      <th>max</th>\n",
       "      <td>1.500000</td>\n",
       "      <td>398890.000000</td>\n",
       "      <td>1.994713e+06</td>\n",
       "      <td>0.0</td>\n",
       "      <td>0.0</td>\n",
       "      <td>4062.360000</td>\n",
       "      <td>0.0</td>\n",
       "      <td>0.0</td>\n",
       "    </tr>\n",
       "  </tbody>\n",
       "</table>\n",
       "</div>"
      ],
      "text/plain": [
       "            PROF              X             Y   HFL   HFM          HFP  BTEX  \\\n",
       "count  97.000000      97.000000  9.700000e+01  97.0  97.0    97.000000  97.0   \n",
       "mean    0.774227  398739.938144  1.994644e+06   0.0   0.0   159.749794   0.0   \n",
       "std     0.596217      95.030786  3.991556e+01   0.0   0.0   775.157192   0.0   \n",
       "min     0.200000  398584.000000  1.994562e+06   0.0   0.0     0.000000   0.0   \n",
       "25%     0.200000  398657.000000  1.994614e+06   0.0   0.0     0.000000   0.0   \n",
       "50%     0.500000  398732.000000  1.994645e+06   0.0   0.0     0.000000   0.0   \n",
       "75%     1.500000  398823.000000  1.994684e+06   0.0   0.0     0.000000   0.0   \n",
       "max     1.500000  398890.000000  1.994713e+06   0.0   0.0  4062.360000   0.0   \n",
       "\n",
       "        HAP  \n",
       "count  97.0  \n",
       "mean    0.0  \n",
       "std     0.0  \n",
       "min     0.0  \n",
       "25%     0.0  \n",
       "50%     0.0  \n",
       "75%     0.0  \n",
       "max     0.0  "
      ]
     },
     "execution_count": 2,
     "metadata": {},
     "output_type": "execute_result"
    }
   ],
   "source": [
    "# Load data file\n",
    "#data_filename = input(\"Enter the name of the data file in the directory where this file is (e.g., data.xlsx): \")\n",
    "data_filename ='data37.xlsx'\n",
    "data = pd.read_excel(data_filename)\n",
    "data.describe()  # Display first few rows of data"
   ]
  },
  {
   "cell_type": "markdown",
   "id": "1ca2d81a-07f5-451a-a039-29724c249269",
   "metadata": {},
   "source": [
    "# Define relevant variables\n",
    "Assign the name of columns for UTM X & Y coordinates, depth, pollutant concentration and its threshold value."
   ]
  },
  {
   "cell_type": "code",
   "execution_count": 3,
   "id": "fd5bf205-8323-4316-a2a0-93f9293d3736",
   "metadata": {},
   "outputs": [],
   "source": [
    "# Define key variables\n",
    "#id_column = input(\"Enter the name of the column of sampling points ID (e.g., :\")\n",
    "id_column = 'ID'\n",
    "#x_column = input(\"Enter the name of the column for the X coordinate (e.g., X): \")\n",
    "x_column = 'X'\n",
    "#y_column = input(\"Enter the name of the column for the Y coordinate (e.g., Y): \")\n",
    "y_column = 'Y'\n",
    "#z_column = input(\"Enter the name of the column for depth (e.g., PROF): \")\n",
    "z_column = 'PROF'\n",
    "#pollutant_column = input(\"Enter the name of the column for pollutant concentration (e.g., HFP): \")\n",
    "pollutant_column = 'HFP'\n",
    "#MPL = float(input(\"Enter the Maximum Permissible Limit (MPL) for pollutant concentration (e.g., 3000): \"))\n",
    "MPL = 3000\n",
    "#units = input(\"Enter the units for pollutant concentration (e.g., mg/kg, ppm, etc.): \")\n",
    "units = 'mg/kg'\n",
    "\n",
    "ID = data[id_column].values\n",
    "x = data[x_column].values  # UTM X coordinate\n",
    "y = data[y_column].values  # UTM Y coordinate\n",
    "z = data[z_column].values * -1  # Depth values (inverted)\n",
    "pollutant_concentration = data[pollutant_column].values  # Pollutant concentration\n",
    "\n",
    "points_id = ID\n",
    "points_x = x\n",
    "points_y = y\n",
    "points_z = z"
   ]
  },
  {
   "cell_type": "markdown",
   "id": "9df42c3a-febd-4903-ac2d-c6e0dd5fc28b",
   "metadata": {},
   "source": [
    "# Generate 3D grid\n",
    "Generate a 3D grid to interpolate the data over the defined spatial region."
   ]
  },
  {
   "cell_type": "code",
   "execution_count": 4,
   "id": "c0c50421-928c-4cc3-9323-deb634e08031",
   "metadata": {},
   "outputs": [],
   "source": [
    "# Create a 3D grid\n",
    "grid_x, grid_y, grid_z = np.mgrid[\n",
    "    min(x):max(x):1,\n",
    "    min(y):max(y):1,\n",
    "    min(z):0+0.2:0.2\n",
    "]"
   ]
  },
  {
   "cell_type": "markdown",
   "id": "f097c5da-ad67-4c81-8151-e57d12e3f2e5",
   "metadata": {},
   "source": [
    "## Interpolate data on the 3D grid\n",
    "Interpolate the pollutant data onto the 3D grid."
   ]
  },
  {
   "cell_type": "code",
   "execution_count": 5,
   "id": "40e6bef2-30fa-4de0-8bd5-2ed2dc6f2b6f",
   "metadata": {},
   "outputs": [],
   "source": [
    "# Interpolation\n",
    "#method = input(\"Choose the interpolation method (linear or nearest): \")\n",
    "method = 'linear'\n",
    "grid_pollutant = griddata((x, y, z), pollutant_concentration, (grid_x, grid_y, grid_z), method=method)"
   ]
  },
  {
   "cell_type": "markdown",
   "id": "95a2c662-ada0-4e77-a69b-ec7a4f106734",
   "metadata": {},
   "source": [
    "# 3D visualization of pollutant distribution\n",
    "Create a 3D visualization of the pollutant distribution using Plotly."
   ]
  },
  {
   "cell_type": "code",
   "execution_count": 6,
   "id": "0eb54339-aba8-41ca-b69b-8a19f23bcbe5",
   "metadata": {},
   "outputs": [],
   "source": [
    "#x_title = input(\"Enter the X-axis title (e.g., UTM E (m)): \")\n",
    "x_title = 'E'\n",
    "#y_title = input(\"Enter the Y-axis title (e.g., UTM N (m)): \")\n",
    "y_title = 'N'\n",
    "#z_title = input(\"Enter the X-axis title (e.g., Depth (m)): \")\n",
    "z_title = 'Z'\n",
    "#color_title = input(\"Enter the color bar title (e.g., Concentration): \")\n",
    "color_title = 'Concentración'\n",
    "#title = input(\"Enter the plot title (e.g., HFP in soil): \")\n",
    "title = 'HFP'"
   ]
  },
  {
   "cell_type": "code",
   "execution_count": 7,
   "id": "52a68d23-b679-4829-94c9-4ddb271df645",
   "metadata": {},
   "outputs": [],
   "source": [
    "# 3D Visualization\n",
    "max_plot = math.ceil(pollutant_concentration.max() / MPL) * MPL\n",
    "\n",
    "# Grid\n",
    "fig = go.Figure(data=go.Volume(\n",
    "    x=grid_x.flatten(),\n",
    "    y=grid_y.flatten(),\n",
    "    z=grid_z.flatten(),\n",
    "    value=grid_pollutant.flatten(),\n",
    "    isomin=0,\n",
    "    isomax=max_plot,\n",
    "    opacity=0.2,\n",
    "    surface_count=int(max_plot / MPL),\n",
    "    colorbar=dict(title=f\"{color_title} ({units})\"),\n",
    "    colorscale=\"Sunsetdark\"\n",
    "))\n",
    "\n",
    "#Sampling points\n",
    "fig.add_trace(go.Scatter3d(\n",
    "    x=points_x,\n",
    "    y=points_y,\n",
    "    z=points_z,\n",
    "    mode='markers',\n",
    "    marker=dict(\n",
    "        size=3,\n",
    "        color='black',\n",
    "        opacity=0.8\n",
    "    ),\n",
    "    hovertext=points_id,\n",
    "    hoverinfo='text'\n",
    "))\n",
    "# Set aspect ratio\n",
    "x_range = max(x) - min(x)\n",
    "y_range = max(y) - min(y)\n",
    "ratio_y = y_range / x_range\n",
    "\n",
    "# Add shapefile\n",
    "shp = gpd.read_file('area_de_estudio_pol.shp')\n",
    "shp = shp.to_crs(epsg=32615)\n",
    "#for geom in shp.geometry:\n",
    "#    if geom.geom_type == 'Polygon':\n",
    "#        x, y = geom.exterior.xy\n",
    "#        x = list(x)\n",
    "#        y = list(y)\n",
    "#        fig.add_trace(go.Scatter3d(\n",
    "#            x=x,\n",
    "#            y=y,\n",
    "#            z=[0] * len(x),\n",
    "#            mode='lines',\n",
    "#            line=dict(color='red', width=2),\n",
    "#            name='Área de estudio'\n",
    "#        ))\n",
    "#    elif geom.geom_type == 'LineString':\n",
    "#        x, y = geom.xy\n",
    "#        # Convertir x, y a listas\n",
    "#        x = list(x)\n",
    "#        y = list(y)\n",
    "#        fig.add_trace(go.Scatter3d(\n",
    "#            x=x,\n",
    "#            y=y,\n",
    "#            z=[0] * len(x),\n",
    "#            mode='lines',\n",
    "#            line=dict(color='blue', width=2),\n",
    "#            name='Línea'\n",
    "#        ))\n",
    "\n",
    "# Configure figure layout\n",
    "fig.update_layout(\n",
    "    scene=dict(\n",
    "        xaxis_title=x_title,\n",
    "        yaxis_title=y_title,\n",
    "        zaxis_title=z_title,\n",
    "    ),\n",
    "    scene_aspectmode='manual',\n",
    "    scene_aspectratio=dict(x=1, y=ratio_y, z=0.25),\n",
    "    title=title\n",
    ")\n",
    "\n",
    "_ = None\n",
    "#fig.show()"
   ]
  },
  {
   "cell_type": "markdown",
   "id": "6ba5f7d9-5c94-4129-8dc0-abb71d970689",
   "metadata": {},
   "source": [
    "# Estimation of polluted volume\n",
    "Estimate the volume where the pollutant concentration exceeds the Maximum Permissible Limit (MPL)"
   ]
  },
  {
   "cell_type": "code",
   "execution_count": 8,
   "id": "d3395053-e58f-48df-b98e-fa04244f491b",
   "metadata": {},
   "outputs": [
    {
     "name": "stdout",
     "output_type": "stream",
     "text": [
      "The soil volume with pollutant concentrations above MPL is: 33.22 m^3\n"
     ]
    }
   ],
   "source": [
    "# Create a mask for cells with concentrations above MPL\n",
    "mask = grid_pollutant > MPL\n",
    "\n",
    "# Determine grid resolution\n",
    "delta_x = (max(x) - min(x)) / grid_x.shape[0]\n",
    "delta_y = (max(y) - min(y)) / grid_y.shape[1]\n",
    "delta_z = (max(z) - min(z)) / grid_z.shape[2]\n",
    "\n",
    "# Calculate cell volume\n",
    "volume_cell = delta_x * delta_y * delta_z\n",
    "\n",
    "# Count cells exceeding MPL and calculate total polluted volume\n",
    "num_cells_above = np.sum(mask)\n",
    "volume_total_above = num_cells_above * volume_cell\n",
    "\n",
    "print(f\"The soil volume with pollutant concentrations above MPL is: {volume_total_above:.2f} m^3\")"
   ]
  },
  {
   "cell_type": "markdown",
   "id": "67804a61-28ab-45ba-894c-214085bb9ab3",
   "metadata": {},
   "source": [
    "# Determine maximum pollution depth\n",
    "Identify the maximum depth where pollutant concentration exceeds MPL."
   ]
  },
  {
   "cell_type": "code",
   "execution_count": 9,
   "id": "92903ba3-4e9d-430a-af14-c7dbf9988855",
   "metadata": {},
   "outputs": [
    {
     "name": "stdout",
     "output_type": "stream",
     "text": [
      "Maximum depth with pollutant concentration above MPL: -0.50 m\n"
     ]
    }
   ],
   "source": [
    "# Maximum pollution depth\n",
    "depths_above = grid_z[mask]\n",
    "maximum_depth = np.min(depths_above)\n",
    "\n",
    "print(f\"Maximum depth with pollutant concentration above MPL: {maximum_depth:.2f} m\")"
   ]
  },
  {
   "cell_type": "markdown",
   "id": "3507fe88-7d6f-4219-805c-c006afb63974",
   "metadata": {},
   "source": [
    "# 3D visualization of polluted volume\n",
    "Create a filtered 3D visualization showing only the volume exceeding MPL."
   ]
  },
  {
   "cell_type": "code",
   "execution_count": 10,
   "id": "4f955dd5-c2b0-41a8-9067-821ea04fa2bd",
   "metadata": {},
   "outputs": [],
   "source": [
    "# 3D Visualization\n",
    "max_plot = math.ceil(pollutant_concentration.max() / MPL) * MPL\n",
    "\n",
    "fig_polluted = go.Figure(data=go.Volume(\n",
    "    x=grid_x.flatten(),\n",
    "    y=grid_y.flatten(),\n",
    "    z=grid_z.flatten(),\n",
    "    value=grid_pollutant.flatten(),\n",
    "    isomin=MPL,\n",
    "    isomax=max_plot,\n",
    "    opacity=0.5,\n",
    "    surface_count=int(max_plot / MPL),\n",
    "    colorbar=dict(title=f\"{color_title} ({units})\"),\n",
    "    colorscale=\"YlOrRd\"\n",
    "))\n",
    "\n",
    "#Sampling points\n",
    "fig_polluted.add_trace(go.Scatter3d(\n",
    "    x=points_x,\n",
    "    y=points_y,\n",
    "    z=points_z,\n",
    "    mode='markers',\n",
    "    marker=dict(\n",
    "        size=3,\n",
    "        color='black',\n",
    "        opacity=0.8\n",
    "    ),\n",
    "    hovertext=points_id,\n",
    "    hoverinfo='text'\n",
    "))\n",
    "\n",
    "# Set aspect ratio\n",
    "x_range = max(x) - min(x)\n",
    "y_range = max(y) - min(y)\n",
    "ratio_y = y_range / x_range\n",
    "\n",
    "# Add shapefile\n",
    "#for geom in shp.geometry:\n",
    "#    if geom.geom_type == 'Polygon':\n",
    "#        x, y = geom.exterior.xy\n",
    "#        x = list(x)\n",
    "#        y = list(y)\n",
    "#        fig.add_trace(go.Scatter3d(\n",
    "#            x=x,\n",
    "#            y=y,\n",
    "#            z=[0] * len(x),\n",
    "#            mode='lines',\n",
    "#            line=dict(color='red', width=2),\n",
    "#            name='Área de estudio'\n",
    "#        ))\n",
    "#    elif geom.geom_type == 'LineString':\n",
    "#        x, y = geom.xy\n",
    "#        # Convertir x, y a listas\n",
    "#        x = list(x)\n",
    "#        y = list(y)\n",
    "#        fig.add_trace(go.Scatter3d(\n",
    "#            x=x,\n",
    "#            y=y,\n",
    "#            z=[0] * len(x),\n",
    "#            mode='lines',\n",
    "#            line=dict(color='blue', width=2),\n",
    "#            name='Línea'\n",
    "#        ))\n",
    "\n",
    "# Configure figure layout\n",
    "fig_polluted.update_layout(\n",
    "    scene=dict(\n",
    "        xaxis_title=x_title,\n",
    "        yaxis_title=y_title,\n",
    "        zaxis_title=z_title,\n",
    "    ),\n",
    "    scene_aspectmode='manual',\n",
    "    scene_aspectratio=dict(x=1, y=ratio_y, z=0.25),\n",
    "    title=str(title)+'(>'+str(MPL)+' '+units+')'\n",
    ")\n",
    "#fig_polluted.show()\n",
    "_ = None"
   ]
  },
  {
   "cell_type": "markdown",
   "id": "e292473b-d659-4c23-9561-52f0d8a770b2",
   "metadata": {},
   "source": [
    "# Export visualization as HTML\n",
    "Save the visualizations as HTML files."
   ]
  },
  {
   "cell_type": "code",
   "execution_count": 11,
   "id": "7c974bec-b95b-49d2-8f50-ac2650e898da",
   "metadata": {},
   "outputs": [
    {
     "data": {
      "text/plain": [
       "'polluted_visualization.html'"
      ]
     },
     "execution_count": 11,
     "metadata": {},
     "output_type": "execute_result"
    }
   ],
   "source": [
    "# Save visualizations as HTML\n",
    "pyo.plot(fig, filename='volumetric_visualization.html', auto_open=True)\n",
    "pyo.plot(fig_polluted, filename='polluted_visualization.html', auto_open=True)"
   ]
  },
  {
   "cell_type": "code",
   "execution_count": null,
   "id": "73bb6734-048c-4a58-bf0a-3c7a27d78a23",
   "metadata": {},
   "outputs": [],
   "source": []
  }
 ],
 "metadata": {
  "kernelspec": {
   "display_name": "Python 3 (ipykernel)",
   "language": "python",
   "name": "python3"
  },
  "language_info": {
   "codemirror_mode": {
    "name": "ipython",
    "version": 3
   },
   "file_extension": ".py",
   "mimetype": "text/x-python",
   "name": "python",
   "nbconvert_exporter": "python",
   "pygments_lexer": "ipython3",
   "version": "3.12.4"
  }
 },
 "nbformat": 4,
 "nbformat_minor": 5
}
