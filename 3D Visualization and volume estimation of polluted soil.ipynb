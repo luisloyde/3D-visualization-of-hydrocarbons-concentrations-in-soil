{
 "cells": [
  {
   "cell_type": "markdown",
   "id": "8b2b5986-3deb-42b5-93b7-11db83717910",
   "metadata": {},
   "source": [
    "# Import libraries and define directory\n",
    "Loading necessary libraries and defininf the data file directory"
   ]
  },
  {
   "cell_type": "code",
   "execution_count": 1,
   "id": "5c31c094-b777-4a2f-9ce4-4ee8a931e66d",
   "metadata": {},
   "outputs": [],
   "source": [
    "# Import Libraries\n",
    "from pathlib import Path\n",
    "import os\n",
    "import pandas as pd\n",
    "import numpy as np\n",
    "from scipy.interpolate import griddata\n",
    "import plotly.graph_objs as go\n",
    "import math\n",
    "import plotly.offline as pyo\n",
    "\n",
    "# Set directory to where the data file is located\n",
    "files_directory = Path().resolve()\n",
    "os.chdir(files_directory)\n"
   ]
  },
  {
   "cell_type": "markdown",
   "id": "07f7fb6b-bbc7-4603-8c9c-a7258a2902f6",
   "metadata": {},
   "source": [
    "## Load data\n",
    "Load the data from the same directory of this code and inspect."
   ]
  },
  {
   "cell_type": "code",
   "execution_count": 2,
   "id": "276495da-1812-48df-9baf-33c37b84f85c",
   "metadata": {},
   "outputs": [
    {
     "name": "stdout",
     "output_type": "stream",
     "text": [
      "          ID  PROF       X        Y         HFL          HFM      HFP  \\\n",
      "0  SCPGLV-1    0.2  395319  1997558    0.000000   146.877055  1541.59   \n",
      "1  SCPGLV-2    0.2  395371  1997457   67.719689  1739.619869  9441.35   \n",
      "2  SCPGLV-3    0.2  395429  1997436    0.000000   146.996367  1944.15   \n",
      "3  SCPGLV-4    0.2  395295  1997508    0.000000   148.899224  1604.86   \n",
      "4  SCPGLV-5    0.2  395370  1997508  109.271297  1961.888471  7455.29   \n",
      "\n",
      "       BTEX  HAP  \n",
      "0  0.000000    0  \n",
      "1  3.614087    0  \n",
      "2  0.000000    0  \n",
      "3  0.000000    0  \n",
      "4  3.845364    0  \n"
     ]
    }
   ],
   "source": [
    "# Load data file\n",
    "#data_filename = input(\"Enter the name of the data file in the directory where this file is (e.g., data.xlsx): \")\n",
    "data_filename ='data49.xlsx'\n",
    "data = pd.read_excel(data_filename)\n",
    "print(data.head())  # Display first few rows of data"
   ]
  },
  {
   "cell_type": "markdown",
   "id": "1ca2d81a-07f5-451a-a039-29724c249269",
   "metadata": {},
   "source": [
    "# Define relevant variables\n",
    "Assign the name of columns for UTM X & Y coordinates, depth, pollutant concentration and its threshold value."
   ]
  },
  {
   "cell_type": "code",
   "execution_count": 3,
   "id": "fd5bf205-8323-4316-a2a0-93f9293d3736",
   "metadata": {},
   "outputs": [],
   "source": [
    "# Define key variables\n",
    "#x_column = input(\"Enter the name of the column for the X coordinate (e.g., X): \")\n",
    "x_column = 'X'\n",
    "#y_column = input(\"Enter the name of the column for the Y coordinate (e.g., Y): \")\n",
    "y_column = 'Y'\n",
    "#z_column = input(\"Enter the name of the column for depth (e.g., PROF): \")\n",
    "z_column = 'PROF'\n",
    "#pollutant_column = input(\"Enter the name of the column for pollutant concentration (e.g., HFP): \")\n",
    "pollutant_column = 'HFP'\n",
    "#MPL = float(input(\"Enter the Maximum Permissible Limit (MPL) for pollutant concentration (e.g., 3000): \"))\n",
    "MPL = 3000\n",
    "#units = input(\"Enter the units for pollutant concentration (e.g., mg/kg, ppm, etc.): \")\n",
    "units = 'mg/kg'\n",
    "\n",
    "x = data[x_column].values  # UTM X coordinate\n",
    "y = data[y_column].values  # UTM Y coordinate\n",
    "z = data[z_column].values * -1  # Depth values (inverted)\n",
    "pollutant_concentration = data[pollutant_column].values  # Pollutant concentration\n",
    "\n",
    "points_x = x\n",
    "points_y = y\n",
    "points_z = z"
   ]
  },
  {
   "cell_type": "markdown",
   "id": "9df42c3a-febd-4903-ac2d-c6e0dd5fc28b",
   "metadata": {},
   "source": [
    "# Generate 3D grid\n",
    "Generate a 3D grid to interpolate the data over the defined spatial region."
   ]
  },
  {
   "cell_type": "code",
   "execution_count": 4,
   "id": "c0c50421-928c-4cc3-9323-deb634e08031",
   "metadata": {},
   "outputs": [],
   "source": [
    "# Create a 3D grid\n",
    "grid_x, grid_y, grid_z = np.mgrid[\n",
    "    min(x):max(x):1,\n",
    "    min(y):max(y):1,\n",
    "    min(z):0+0.1:0.1\n",
    "]"
   ]
  },
  {
   "cell_type": "markdown",
   "id": "f097c5da-ad67-4c81-8151-e57d12e3f2e5",
   "metadata": {},
   "source": [
    "## Interpolate data on the 3D grid\n",
    "Interpolate the pollutant data onto the 3D grid."
   ]
  },
  {
   "cell_type": "code",
   "execution_count": 5,
   "id": "40e6bef2-30fa-4de0-8bd5-2ed2dc6f2b6f",
   "metadata": {},
   "outputs": [],
   "source": [
    "# Interpolation\n",
    "#method = input(\"Choose the interpolation method (linear or nearest): \")\n",
    "method = 'linear'\n",
    "grid_pollutant = griddata((x, y, z), pollutant_concentration, (grid_x, grid_y, grid_z), method=method)"
   ]
  },
  {
   "cell_type": "markdown",
   "id": "95a2c662-ada0-4e77-a69b-ec7a4f106734",
   "metadata": {},
   "source": [
    "# 3D visualization of pollutant distribution\n",
    "Create a 3D visualization of the pollutant distribution using Plotly."
   ]
  },
  {
   "cell_type": "code",
   "execution_count": 6,
   "id": "0eb54339-aba8-41ca-b69b-8a19f23bcbe5",
   "metadata": {},
   "outputs": [],
   "source": [
    "#x_title = input(\"Enter the X-axis title (e.g., UTM E (m)): \")\n",
    "x_title = 'E'\n",
    "#y_title = input(\"Enter the Y-axis title (e.g., UTM N (m)): \")\n",
    "y_title = 'N'\n",
    "#z_title = input(\"Enter the X-axis title (e.g., Depth (m)): \")\n",
    "z_title = 'Z'\n",
    "#color_title = input(\"Enter the color bar title (e.g., Concentration): \")\n",
    "color_title = 'Concentración'\n",
    "#title = input(\"Enter the plot title (e.g., HFP in soil): \")\n",
    "title = 'HFP'"
   ]
  },
  {
   "cell_type": "code",
   "execution_count": 7,
   "id": "52a68d23-b679-4829-94c9-4ddb271df645",
   "metadata": {},
   "outputs": [],
   "source": [
    "# 3D Visualization\n",
    "max_plot = math.ceil(pollutant_concentration.max() / MPL) * MPL\n",
    "\n",
    "# Grid\n",
    "fig = go.Figure(data=go.Volume(\n",
    "    x=grid_x.flatten(),\n",
    "    y=grid_y.flatten(),\n",
    "    z=grid_z.flatten(),\n",
    "    value=grid_pollutant.flatten(),\n",
    "    isomin=0,\n",
    "    isomax=max_plot,\n",
    "    opacity=0.2,\n",
    "    surface_count=int(max_plot / MPL)+1,\n",
    "    colorbar=dict(title=f\"{color_title} ({units})\"),\n",
    "    colorscale=\"bluered\"\n",
    "))\n",
    "\n",
    "#Sampling points\n",
    "fig.add_trace(go.Scatter3d(\n",
    "    x=points_x,\n",
    "    y=points_y,\n",
    "    z=points_z,\n",
    "    mode='markers',\n",
    "    marker=dict(\n",
    "        size=2,\n",
    "        color='black',\n",
    "        opacity=0.8\n",
    "    )\n",
    "))\n",
    "\n",
    "# Set aspect ratio\n",
    "x_range = max(x) - min(x)\n",
    "y_range = max(y) - min(y)\n",
    "ratio_y = y_range / x_range\n",
    "\n",
    "# Configure figure layout\n",
    "fig.update_layout(\n",
    "    scene=dict(\n",
    "        xaxis_title=x_title,\n",
    "        yaxis_title=y_title,\n",
    "        zaxis_title=z_title,\n",
    "    ),\n",
    "    scene_aspectmode='manual',\n",
    "    scene_aspectratio=dict(x=1, y=ratio_y, z=0.25),\n",
    "    title=title\n",
    ")\n",
    "\n",
    "_ = None\n",
    "#fig.show()"
   ]
  },
  {
   "cell_type": "markdown",
   "id": "6ba5f7d9-5c94-4129-8dc0-abb71d970689",
   "metadata": {},
   "source": [
    "# Estimation of polluted volume\n",
    "Estimate the volume where the pollutant concentration exceeds the Maximum Permissible Limit (MPL)"
   ]
  },
  {
   "cell_type": "code",
   "execution_count": 8,
   "id": "d3395053-e58f-48df-b98e-fa04244f491b",
   "metadata": {},
   "outputs": [
    {
     "name": "stdout",
     "output_type": "stream",
     "text": [
      "The soil volume with pollutant concentrations above MPL is: 33663.23 m^3\n"
     ]
    }
   ],
   "source": [
    "# Create a mask for cells with concentrations above MPL\n",
    "mask = grid_pollutant > MPL\n",
    "\n",
    "# Determine grid resolution\n",
    "delta_x = (max(x) - min(x)) / grid_x.shape[0]\n",
    "delta_y = (max(y) - min(y)) / grid_y.shape[1]\n",
    "delta_z = (max(z) - min(z)) / grid_z.shape[2]\n",
    "\n",
    "# Calculate cell volume\n",
    "volume_cell = delta_x * delta_y * delta_z\n",
    "\n",
    "# Count cells exceeding MPL and calculate total polluted volume\n",
    "num_cells_above = np.sum(mask)\n",
    "volume_total_above = num_cells_above * volume_cell\n",
    "\n",
    "print(f\"The soil volume with pollutant concentrations above MPL is: {volume_total_above:.2f} m^3\")"
   ]
  },
  {
   "cell_type": "markdown",
   "id": "67804a61-28ab-45ba-894c-214085bb9ab3",
   "metadata": {},
   "source": [
    "# Determine maximum pollution depth\n",
    "Identify the maximum depth where pollutant concentration exceeds MPL."
   ]
  },
  {
   "cell_type": "code",
   "execution_count": 9,
   "id": "92903ba3-4e9d-430a-af14-c7dbf9988855",
   "metadata": {},
   "outputs": [
    {
     "name": "stdout",
     "output_type": "stream",
     "text": [
      "Maximum depth with pollutant concentration above MPL: -1.40 m\n"
     ]
    }
   ],
   "source": [
    "# Maximum pollution depth\n",
    "depths_above = grid_z[mask]\n",
    "maximum_depth = np.min(depths_above)\n",
    "\n",
    "print(f\"Maximum depth with pollutant concentration above MPL: {maximum_depth:.2f} m\")"
   ]
  },
  {
   "cell_type": "markdown",
   "id": "3507fe88-7d6f-4219-805c-c006afb63974",
   "metadata": {},
   "source": [
    "# 3D visualization of polluted volume\n",
    "Create a filtered 3D visualization showing only the volume exceeding MPL."
   ]
  },
  {
   "cell_type": "code",
   "execution_count": 10,
   "id": "4f955dd5-c2b0-41a8-9067-821ea04fa2bd",
   "metadata": {},
   "outputs": [],
   "source": [
    "# 3D Visualization\n",
    "max_plot = math.ceil(pollutant_concentration.max() / MPL) * MPL\n",
    "\n",
    "fig_polluted = go.Figure(data=go.Volume(\n",
    "    x=grid_x.flatten(),\n",
    "    y=grid_y.flatten(),\n",
    "    z=grid_z.flatten(),\n",
    "    value=grid_pollutant.flatten(),\n",
    "    isomin=MPL,\n",
    "    isomax=max_plot,\n",
    "    opacity=0.25,\n",
    "    surface_count=int(max_plot / MPL)+1,\n",
    "    colorbar=dict(title=f\"{color_title} ({units})\"),\n",
    "    colorscale=\"Reds\"\n",
    "))\n",
    "\n",
    "#Sampling points\n",
    "fig.add_trace(go.Scatter3d(\n",
    "    x=points_x,\n",
    "    y=points_y,\n",
    "    z=points_z,\n",
    "    mode='markers',\n",
    "    marker=dict(\n",
    "        size=2,\n",
    "        color='black',\n",
    "        opacity=0.8\n",
    "    )\n",
    "))\n",
    "\n",
    "# Set aspect ratio\n",
    "x_range = max(x) - min(x)\n",
    "y_range = max(y) - min(y)\n",
    "ratio_y = y_range / x_range\n",
    "\n",
    "# Configure figure layout\n",
    "fig_polluted.update_layout(\n",
    "    scene=dict(\n",
    "        xaxis_title=x_title,\n",
    "        yaxis_title=y_title,\n",
    "        zaxis_title=z_title,\n",
    "    ),\n",
    "    scene_aspectmode='manual',\n",
    "    scene_aspectratio=dict(x=1, y=ratio_y, z=0.25),\n",
    "    title=str(title)+'(>'+str(MPL)+')'\n",
    ")\n",
    "#fig_polluted.show()\n",
    "_ = None"
   ]
  },
  {
   "cell_type": "markdown",
   "id": "e292473b-d659-4c23-9561-52f0d8a770b2",
   "metadata": {},
   "source": [
    "# Export visualization as HTML\n",
    "Save the visualizations as HTML files."
   ]
  },
  {
   "cell_type": "code",
   "execution_count": 11,
   "id": "7c974bec-b95b-49d2-8f50-ac2650e898da",
   "metadata": {},
   "outputs": [
    {
     "ename": "OSError",
     "evalue": "[Errno 22] Invalid argument: 'polluted_visualization.html'",
     "output_type": "error",
     "traceback": [
      "\u001b[1;31m---------------------------------------------------------------------------\u001b[0m",
      "\u001b[1;31mOSError\u001b[0m                                   Traceback (most recent call last)",
      "Cell \u001b[1;32mIn[11], line 3\u001b[0m\n\u001b[0;32m      1\u001b[0m \u001b[38;5;66;03m# Save visualizations as HTML\u001b[39;00m\n\u001b[0;32m      2\u001b[0m pyo\u001b[38;5;241m.\u001b[39mplot(fig, filename\u001b[38;5;241m=\u001b[39m\u001b[38;5;124m'\u001b[39m\u001b[38;5;124mvolumetric_visualization.html\u001b[39m\u001b[38;5;124m'\u001b[39m, auto_open\u001b[38;5;241m=\u001b[39m\u001b[38;5;28;01mFalse\u001b[39;00m)\n\u001b[1;32m----> 3\u001b[0m \u001b[43mpyo\u001b[49m\u001b[38;5;241;43m.\u001b[39;49m\u001b[43mplot\u001b[49m\u001b[43m(\u001b[49m\u001b[43mfig_polluted\u001b[49m\u001b[43m,\u001b[49m\u001b[43m \u001b[49m\u001b[43mfilename\u001b[49m\u001b[38;5;241;43m=\u001b[39;49m\u001b[38;5;124;43m'\u001b[39;49m\u001b[38;5;124;43mpolluted_visualization.html\u001b[39;49m\u001b[38;5;124;43m'\u001b[39;49m\u001b[43m,\u001b[49m\u001b[43m \u001b[49m\u001b[43mauto_open\u001b[49m\u001b[38;5;241;43m=\u001b[39;49m\u001b[38;5;28;43;01mFalse\u001b[39;49;00m\u001b[43m)\u001b[49m\n",
      "File \u001b[1;32m~\\miniconda3\\Lib\\site-packages\\plotly\\offline\\offline.py:581\u001b[0m, in \u001b[0;36mplot\u001b[1;34m(figure_or_data, show_link, link_text, validate, output_type, include_plotlyjs, filename, auto_open, image, image_filename, image_width, image_height, config, include_mathjax, auto_play, animation_opts)\u001b[0m\n\u001b[0;32m    576\u001b[0m post_script \u001b[38;5;241m=\u001b[39m build_save_image_post_script(\n\u001b[0;32m    577\u001b[0m     image, image_filename, image_height, image_width, \u001b[38;5;124m\"\u001b[39m\u001b[38;5;124mplot\u001b[39m\u001b[38;5;124m\"\u001b[39m\n\u001b[0;32m    578\u001b[0m )\n\u001b[0;32m    580\u001b[0m \u001b[38;5;28;01mif\u001b[39;00m output_type \u001b[38;5;241m==\u001b[39m \u001b[38;5;124m\"\u001b[39m\u001b[38;5;124mfile\u001b[39m\u001b[38;5;124m\"\u001b[39m:\n\u001b[1;32m--> 581\u001b[0m     \u001b[43mpio\u001b[49m\u001b[38;5;241;43m.\u001b[39;49m\u001b[43mwrite_html\u001b[49m\u001b[43m(\u001b[49m\n\u001b[0;32m    582\u001b[0m \u001b[43m        \u001b[49m\u001b[43mfigure\u001b[49m\u001b[43m,\u001b[49m\n\u001b[0;32m    583\u001b[0m \u001b[43m        \u001b[49m\u001b[43mfilename\u001b[49m\u001b[43m,\u001b[49m\n\u001b[0;32m    584\u001b[0m \u001b[43m        \u001b[49m\u001b[43mconfig\u001b[49m\u001b[38;5;241;43m=\u001b[39;49m\u001b[43mconfig\u001b[49m\u001b[43m,\u001b[49m\n\u001b[0;32m    585\u001b[0m \u001b[43m        \u001b[49m\u001b[43mauto_play\u001b[49m\u001b[38;5;241;43m=\u001b[39;49m\u001b[43mauto_play\u001b[49m\u001b[43m,\u001b[49m\n\u001b[0;32m    586\u001b[0m \u001b[43m        \u001b[49m\u001b[43minclude_plotlyjs\u001b[49m\u001b[38;5;241;43m=\u001b[39;49m\u001b[43minclude_plotlyjs\u001b[49m\u001b[43m,\u001b[49m\n\u001b[0;32m    587\u001b[0m \u001b[43m        \u001b[49m\u001b[43minclude_mathjax\u001b[49m\u001b[38;5;241;43m=\u001b[39;49m\u001b[43minclude_mathjax\u001b[49m\u001b[43m,\u001b[49m\n\u001b[0;32m    588\u001b[0m \u001b[43m        \u001b[49m\u001b[43mpost_script\u001b[49m\u001b[38;5;241;43m=\u001b[39;49m\u001b[43mpost_script\u001b[49m\u001b[43m,\u001b[49m\n\u001b[0;32m    589\u001b[0m \u001b[43m        \u001b[49m\u001b[43mfull_html\u001b[49m\u001b[38;5;241;43m=\u001b[39;49m\u001b[38;5;28;43;01mTrue\u001b[39;49;00m\u001b[43m,\u001b[49m\n\u001b[0;32m    590\u001b[0m \u001b[43m        \u001b[49m\u001b[43mvalidate\u001b[49m\u001b[38;5;241;43m=\u001b[39;49m\u001b[43mvalidate\u001b[49m\u001b[43m,\u001b[49m\n\u001b[0;32m    591\u001b[0m \u001b[43m        \u001b[49m\u001b[43manimation_opts\u001b[49m\u001b[38;5;241;43m=\u001b[39;49m\u001b[43manimation_opts\u001b[49m\u001b[43m,\u001b[49m\n\u001b[0;32m    592\u001b[0m \u001b[43m        \u001b[49m\u001b[43mauto_open\u001b[49m\u001b[38;5;241;43m=\u001b[39;49m\u001b[43mauto_open\u001b[49m\u001b[43m,\u001b[49m\n\u001b[0;32m    593\u001b[0m \u001b[43m    \u001b[49m\u001b[43m)\u001b[49m\n\u001b[0;32m    594\u001b[0m     \u001b[38;5;28;01mreturn\u001b[39;00m filename\n\u001b[0;32m    595\u001b[0m \u001b[38;5;28;01melse\u001b[39;00m:\n",
      "File \u001b[1;32m~\\miniconda3\\Lib\\site-packages\\plotly\\io\\_html.py:535\u001b[0m, in \u001b[0;36mwrite_html\u001b[1;34m(fig, file, config, auto_play, include_plotlyjs, include_mathjax, post_script, full_html, animation_opts, validate, default_width, default_height, auto_open, div_id)\u001b[0m\n\u001b[0;32m    532\u001b[0m \u001b[38;5;66;03m# Write HTML string\u001b[39;00m\n\u001b[0;32m    533\u001b[0m \u001b[38;5;28;01mif\u001b[39;00m path \u001b[38;5;129;01mis\u001b[39;00m \u001b[38;5;129;01mnot\u001b[39;00m \u001b[38;5;28;01mNone\u001b[39;00m:\n\u001b[0;32m    534\u001b[0m     \u001b[38;5;66;03m# To use a different file encoding, pass a file descriptor\u001b[39;00m\n\u001b[1;32m--> 535\u001b[0m     \u001b[43mpath\u001b[49m\u001b[38;5;241;43m.\u001b[39;49m\u001b[43mwrite_text\u001b[49m\u001b[43m(\u001b[49m\u001b[43mhtml_str\u001b[49m\u001b[43m,\u001b[49m\u001b[43m \u001b[49m\u001b[38;5;124;43m\"\u001b[39;49m\u001b[38;5;124;43mutf-8\u001b[39;49m\u001b[38;5;124;43m\"\u001b[39;49m\u001b[43m)\u001b[49m\n\u001b[0;32m    536\u001b[0m \u001b[38;5;28;01melse\u001b[39;00m:\n\u001b[0;32m    537\u001b[0m     file\u001b[38;5;241m.\u001b[39mwrite(html_str)\n",
      "File \u001b[1;32m~\\miniconda3\\Lib\\pathlib.py:1047\u001b[0m, in \u001b[0;36mPath.write_text\u001b[1;34m(self, data, encoding, errors, newline)\u001b[0m\n\u001b[0;32m   1044\u001b[0m     \u001b[38;5;28;01mraise\u001b[39;00m \u001b[38;5;167;01mTypeError\u001b[39;00m(\u001b[38;5;124m'\u001b[39m\u001b[38;5;124mdata must be str, not \u001b[39m\u001b[38;5;132;01m%s\u001b[39;00m\u001b[38;5;124m'\u001b[39m \u001b[38;5;241m%\u001b[39m\n\u001b[0;32m   1045\u001b[0m                     data\u001b[38;5;241m.\u001b[39m\u001b[38;5;18m__class__\u001b[39m\u001b[38;5;241m.\u001b[39m\u001b[38;5;18m__name__\u001b[39m)\n\u001b[0;32m   1046\u001b[0m encoding \u001b[38;5;241m=\u001b[39m io\u001b[38;5;241m.\u001b[39mtext_encoding(encoding)\n\u001b[1;32m-> 1047\u001b[0m \u001b[38;5;28;01mwith\u001b[39;00m \u001b[38;5;28;43mself\u001b[39;49m\u001b[38;5;241;43m.\u001b[39;49m\u001b[43mopen\u001b[49m\u001b[43m(\u001b[49m\u001b[43mmode\u001b[49m\u001b[38;5;241;43m=\u001b[39;49m\u001b[38;5;124;43m'\u001b[39;49m\u001b[38;5;124;43mw\u001b[39;49m\u001b[38;5;124;43m'\u001b[39;49m\u001b[43m,\u001b[49m\u001b[43m \u001b[49m\u001b[43mencoding\u001b[49m\u001b[38;5;241;43m=\u001b[39;49m\u001b[43mencoding\u001b[49m\u001b[43m,\u001b[49m\u001b[43m \u001b[49m\u001b[43merrors\u001b[49m\u001b[38;5;241;43m=\u001b[39;49m\u001b[43merrors\u001b[49m\u001b[43m,\u001b[49m\u001b[43m \u001b[49m\u001b[43mnewline\u001b[49m\u001b[38;5;241;43m=\u001b[39;49m\u001b[43mnewline\u001b[49m\u001b[43m)\u001b[49m \u001b[38;5;28;01mas\u001b[39;00m f:\n\u001b[0;32m   1048\u001b[0m     \u001b[38;5;28;01mreturn\u001b[39;00m f\u001b[38;5;241m.\u001b[39mwrite(data)\n",
      "File \u001b[1;32m~\\miniconda3\\Lib\\pathlib.py:1013\u001b[0m, in \u001b[0;36mPath.open\u001b[1;34m(self, mode, buffering, encoding, errors, newline)\u001b[0m\n\u001b[0;32m   1011\u001b[0m \u001b[38;5;28;01mif\u001b[39;00m \u001b[38;5;124m\"\u001b[39m\u001b[38;5;124mb\u001b[39m\u001b[38;5;124m\"\u001b[39m \u001b[38;5;129;01mnot\u001b[39;00m \u001b[38;5;129;01min\u001b[39;00m mode:\n\u001b[0;32m   1012\u001b[0m     encoding \u001b[38;5;241m=\u001b[39m io\u001b[38;5;241m.\u001b[39mtext_encoding(encoding)\n\u001b[1;32m-> 1013\u001b[0m \u001b[38;5;28;01mreturn\u001b[39;00m \u001b[43mio\u001b[49m\u001b[38;5;241;43m.\u001b[39;49m\u001b[43mopen\u001b[49m\u001b[43m(\u001b[49m\u001b[38;5;28;43mself\u001b[39;49m\u001b[43m,\u001b[49m\u001b[43m \u001b[49m\u001b[43mmode\u001b[49m\u001b[43m,\u001b[49m\u001b[43m \u001b[49m\u001b[43mbuffering\u001b[49m\u001b[43m,\u001b[49m\u001b[43m \u001b[49m\u001b[43mencoding\u001b[49m\u001b[43m,\u001b[49m\u001b[43m \u001b[49m\u001b[43merrors\u001b[49m\u001b[43m,\u001b[49m\u001b[43m \u001b[49m\u001b[43mnewline\u001b[49m\u001b[43m)\u001b[49m\n",
      "\u001b[1;31mOSError\u001b[0m: [Errno 22] Invalid argument: 'polluted_visualization.html'"
     ]
    }
   ],
   "source": [
    "# Save visualizations as HTML\n",
    "pyo.plot(fig, filename='volumetric_visualization.html', auto_open=False)\n",
    "pyo.plot(fig_polluted, filename='polluted_visualization.html', auto_open=False)"
   ]
  },
  {
   "cell_type": "code",
   "execution_count": null,
   "id": "09f24558-b532-4d92-8538-d4ec90e57ae6",
   "metadata": {
    "collapsed": true,
    "jupyter": {
     "outputs_hidden": true
    }
   },
   "outputs": [],
   "source": []
  }
 ],
 "metadata": {
  "kernelspec": {
   "display_name": "Python 3 (ipykernel)",
   "language": "python",
   "name": "python3"
  },
  "language_info": {
   "codemirror_mode": {
    "name": "ipython",
    "version": 3
   },
   "file_extension": ".py",
   "mimetype": "text/x-python",
   "name": "python",
   "nbconvert_exporter": "python",
   "pygments_lexer": "ipython3",
   "version": "3.12.5"
  }
 },
 "nbformat": 4,
 "nbformat_minor": 5
}
