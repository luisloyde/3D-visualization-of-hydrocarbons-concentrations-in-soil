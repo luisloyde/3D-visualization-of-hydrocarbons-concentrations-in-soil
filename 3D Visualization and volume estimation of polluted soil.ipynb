{
 "cells": [
  {
   "cell_type": "markdown",
   "id": "8b2b5986-3deb-42b5-93b7-11db83717910",
   "metadata": {},
   "source": [
    "# Import libraries and define directory\n",
    "Loading necessary libraries and defininf the data file directory"
   ]
  },
  {
   "cell_type": "code",
   "execution_count": 1,
   "id": "5c31c094-b777-4a2f-9ce4-4ee8a931e66d",
   "metadata": {},
   "outputs": [],
   "source": [
    "# Import Libraries\n",
    "from pathlib import Path\n",
    "import os\n",
    "import pandas as pd\n",
    "import numpy as np\n",
    "from scipy.interpolate import griddata\n",
    "import plotly.graph_objs as go\n",
    "import math\n",
    "import plotly.offline as pyo\n",
    "\n",
    "# Set directory to where the data file is located\n",
    "files_directory = Path().resolve()\n",
    "os.chdir(files_directory)\n"
   ]
  },
  {
   "cell_type": "markdown",
   "id": "07f7fb6b-bbc7-4603-8c9c-a7258a2902f6",
   "metadata": {},
   "source": [
    "## Load data\n",
    "Load the data from the same directory of this code and inspect."
   ]
  },
  {
   "cell_type": "code",
   "execution_count": 2,
   "id": "276495da-1812-48df-9baf-33c37b84f85c",
   "metadata": {},
   "outputs": [
    {
     "name": "stdout",
     "output_type": "stream",
     "text": [
      "                ID          X           Y  PROF     HFL     HFM      HFP  \\\n",
      "0  SPCP209-27 0.2   392203.00  2015577.00   0.2    0.00     0.0     0.00   \n",
      "1  SPCP209-15 0.2   392097.16  2015541.05   0.2    0.00     0.0     0.00   \n",
      "2  SPCP209-20 0.2   392105.70  2015588.27   0.2    0.00     0.0     0.00   \n",
      "3  SPCP209-10 0.2   392097.16  2015541.05   0.2  122.81  2624.6  9247.28   \n",
      "4   SPCP209-9 0.2   392069.16  2015541.05   0.2    0.00     0.0     0.00   \n",
      "\n",
      "   BTEX  HAP  \n",
      "0     0    0  \n",
      "1     0    0  \n",
      "2     0    0  \n",
      "3     0    0  \n",
      "4     0    0  \n"
     ]
    }
   ],
   "source": [
    "# Load data file\n",
    "#data_filename = input(\"Enter the name of the data file in the directory where this file is (e.g., data.xlsx): \")\n",
    "data_filename ='data36.xlsx'\n",
    "data = pd.read_excel(data_filename)\n",
    "print(data.head())  # Display first few rows of data"
   ]
  },
  {
   "cell_type": "markdown",
   "id": "1ca2d81a-07f5-451a-a039-29724c249269",
   "metadata": {},
   "source": [
    "# Define relevant variables\n",
    "Assign the name of columns for UTM X & Y coordinates, depth, pollutant concentration and its threshold value."
   ]
  },
  {
   "cell_type": "code",
   "execution_count": 3,
   "id": "fd5bf205-8323-4316-a2a0-93f9293d3736",
   "metadata": {},
   "outputs": [],
   "source": [
    "# Define key variables\n",
    "#x_column = input(\"Enter the name of the column for the X coordinate (e.g., X): \")\n",
    "x_column = 'X'\n",
    "#y_column = input(\"Enter the name of the column for the Y coordinate (e.g., Y): \")\n",
    "y_column = 'Y'\n",
    "#z_column = input(\"Enter the name of the column for depth (e.g., PROF): \")\n",
    "z_column = 'PROF'\n",
    "#pollutant_column = input(\"Enter the name of the column for pollutant concentration (e.g., HFP): \")\n",
    "pollutant_column = 'HFM'\n",
    "#MPL = float(input(\"Enter the Maximum Permissible Limit (MPL) for pollutant concentration (e.g., 3000): \"))\n",
    "MPL = 1200\n",
    "#units = input(\"Enter the units for pollutant concentration (e.g., mg/kg, ppm, etc.): \")\n",
    "units = 'mg/kg'\n",
    "\n",
    "x = data[x_column].values  # UTM X coordinate\n",
    "y = data[y_column].values  # UTM Y coordinate\n",
    "z = data[z_column].values * -1  # Depth values (inverted)\n",
    "pollutant_concentration = data[pollutant_column].values  # Pollutant concentration\n",
    "\n",
    "points_x = x\n",
    "points_y = y\n",
    "points_z = z\n",
    "points_id = data['ID'].values #change"
   ]
  },
  {
   "cell_type": "markdown",
   "id": "9df42c3a-febd-4903-ac2d-c6e0dd5fc28b",
   "metadata": {},
   "source": [
    "# Generate 3D grid\n",
    "Generate a 3D grid to interpolate the data over the defined spatial region."
   ]
  },
  {
   "cell_type": "code",
   "execution_count": 4,
   "id": "c0c50421-928c-4cc3-9323-deb634e08031",
   "metadata": {},
   "outputs": [],
   "source": [
    "# Create a 3D grid\n",
    "grid_x, grid_y, grid_z = np.mgrid[\n",
    "    min(x):max(x):1,\n",
    "    min(y):max(y):1,\n",
    "    min(z):0+0.2:0.2\n",
    "]"
   ]
  },
  {
   "cell_type": "markdown",
   "id": "f097c5da-ad67-4c81-8151-e57d12e3f2e5",
   "metadata": {},
   "source": [
    "## Interpolate data on the 3D grid\n",
    "Interpolate the pollutant data onto the 3D grid."
   ]
  },
  {
   "cell_type": "code",
   "execution_count": 5,
   "id": "40e6bef2-30fa-4de0-8bd5-2ed2dc6f2b6f",
   "metadata": {},
   "outputs": [],
   "source": [
    "# Interpolation\n",
    "#method = input(\"Choose the interpolation method (linear or nearest): \")\n",
    "method = 'linear'\n",
    "grid_pollutant = griddata((x, y, z), pollutant_concentration, (grid_x, grid_y, grid_z), method=method)"
   ]
  },
  {
   "cell_type": "markdown",
   "id": "95a2c662-ada0-4e77-a69b-ec7a4f106734",
   "metadata": {},
   "source": [
    "# 3D visualization of pollutant distribution\n",
    "Create a 3D visualization of the pollutant distribution using Plotly."
   ]
  },
  {
   "cell_type": "code",
   "execution_count": 6,
   "id": "0eb54339-aba8-41ca-b69b-8a19f23bcbe5",
   "metadata": {},
   "outputs": [],
   "source": [
    "#x_title = input(\"Enter the X-axis title (e.g., UTM E (m)): \")\n",
    "x_title = 'E'\n",
    "#y_title = input(\"Enter the Y-axis title (e.g., UTM N (m)): \")\n",
    "y_title = 'N'\n",
    "#z_title = input(\"Enter the X-axis title (e.g., Depth (m)): \")\n",
    "z_title = 'Z'\n",
    "#color_title = input(\"Enter the color bar title (e.g., Concentration): \")\n",
    "color_title = 'Concentración'\n",
    "#title = input(\"Enter the plot title (e.g., HFP in soil): \")\n",
    "title = 'HFM'"
   ]
  },
  {
   "cell_type": "code",
   "execution_count": 7,
   "id": "52a68d23-b679-4829-94c9-4ddb271df645",
   "metadata": {},
   "outputs": [],
   "source": [
    "# 3D Visualization\n",
    "max_plot = math.ceil(pollutant_concentration.max() / MPL) * MPL\n",
    "\n",
    "# Grid\n",
    "fig = go.Figure(data=go.Volume(\n",
    "    x=grid_x.flatten(),\n",
    "    y=grid_y.flatten(),\n",
    "    z=grid_z.flatten(),\n",
    "    value=grid_pollutant.flatten(),\n",
    "    isomin=0,\n",
    "    isomax=max_plot,\n",
    "    opacity=0.2,\n",
    "    surface_count=int(max_plot/MPL)+1,\n",
    "    colorbar=dict(title=f\"{color_title} ({units})\"),\n",
    "    colorscale=\"bluered\"\n",
    "))\n",
    "\n",
    "#Sampling points\n",
    "fig.add_trace(go.Scatter3d(\n",
    "    x=points_x,\n",
    "    y=points_y,\n",
    "    z=points_z,\n",
    "    mode='markers',\n",
    "    marker=dict(\n",
    "        size=2,\n",
    "        color='black',\n",
    "        opacity=0.8\n",
    "    ),\n",
    "    showlegend=False,\n",
    "    text=points_id,\n",
    "    hoverinfo=\"text\"\n",
    "))\n",
    "\n",
    "# Set aspect ratio\n",
    "x_range = max(x) - min(x)\n",
    "y_range = max(y) - min(y)\n",
    "ratio_y = y_range / x_range\n",
    "\n",
    "# Configure figure layout\n",
    "fig.update_layout(\n",
    "    scene=dict(\n",
    "        xaxis_title=x_title,\n",
    "        yaxis_title=y_title,\n",
    "        zaxis_title=z_title,\n",
    "    ),\n",
    "    scene_aspectmode='manual',\n",
    "    scene_aspectratio=dict(x=1, y=ratio_y, z=0.25),\n",
    "    title=title\n",
    ")\n",
    "\n",
    "_ = None\n",
    "#fig.show()"
   ]
  },
  {
   "cell_type": "markdown",
   "id": "6ba5f7d9-5c94-4129-8dc0-abb71d970689",
   "metadata": {},
   "source": [
    "# Estimation of polluted volume\n",
    "Estimate the volume where the pollutant concentration exceeds the Maximum Permissible Limit (MPL)"
   ]
  },
  {
   "cell_type": "code",
   "execution_count": 8,
   "id": "d3395053-e58f-48df-b98e-fa04244f491b",
   "metadata": {},
   "outputs": [
    {
     "name": "stdout",
     "output_type": "stream",
     "text": [
      "The soil volume with pollutant concentrations above MPL is: 1067.06 m^3\n"
     ]
    }
   ],
   "source": [
    "# Create a mask for cells with concentrations above MPL\n",
    "mask = grid_pollutant > MPL\n",
    "\n",
    "# Determine grid resolution\n",
    "delta_x = (max(x) - min(x)) / grid_x.shape[0]\n",
    "delta_y = (max(y) - min(y)) / grid_y.shape[1]\n",
    "delta_z = (max(z) - min(z)) / grid_z.shape[2]\n",
    "\n",
    "# Calculate cell volume\n",
    "volume_cell = delta_x * delta_y * delta_z\n",
    "\n",
    "# Count cells exceeding MPL and calculate total polluted volume\n",
    "num_cells_above = np.sum(mask)\n",
    "volume_total_above = num_cells_above * volume_cell\n",
    "\n",
    "print(f\"The soil volume with pollutant concentrations above MPL is: {volume_total_above:.2f} m^3\")"
   ]
  },
  {
   "cell_type": "markdown",
   "id": "67804a61-28ab-45ba-894c-214085bb9ab3",
   "metadata": {},
   "source": [
    "# Determine maximum pollution depth\n",
    "Identify the maximum depth where pollutant concentration exceeds MPL."
   ]
  },
  {
   "cell_type": "code",
   "execution_count": 9,
   "id": "92903ba3-4e9d-430a-af14-c7dbf9988855",
   "metadata": {},
   "outputs": [
    {
     "name": "stdout",
     "output_type": "stream",
     "text": [
      "Maximum depth with pollutant concentration above MPL: -2.00 m\n"
     ]
    }
   ],
   "source": [
    "# Maximum pollution depth\n",
    "depths_above = grid_z[mask]\n",
    "maximum_depth = np.min(depths_above)\n",
    "\n",
    "print(f\"Maximum depth with pollutant concentration above MPL: {maximum_depth:.2f} m\")"
   ]
  },
  {
   "cell_type": "markdown",
   "id": "3507fe88-7d6f-4219-805c-c006afb63974",
   "metadata": {},
   "source": [
    "# 3D visualization of polluted volume\n",
    "Create a filtered 3D visualization showing only the volume exceeding MPL."
   ]
  },
  {
   "cell_type": "code",
   "execution_count": 12,
   "id": "4f955dd5-c2b0-41a8-9067-821ea04fa2bd",
   "metadata": {},
   "outputs": [],
   "source": [
    "# 3D Visualization\n",
    "max_plot = math.ceil(pollutant_concentration.max() / MPL) * MPL\n",
    "\n",
    "fig_polluted = go.Figure(data=go.Volume(\n",
    "    x=grid_x.flatten(),\n",
    "    y=grid_y.flatten(),\n",
    "    z=grid_z.flatten(),\n",
    "    value=grid_pollutant.flatten(),\n",
    "    isomin=MPL,\n",
    "    isomax=max_plot,\n",
    "    opacity=0.25,\n",
    "    surface_count=int((max_plot-MPL)/MPL)+1,\n",
    "    colorbar=dict(title=f\"{color_title} ({units})\"),\n",
    "    colorscale=\"Sunset\"\n",
    "))\n",
    "\n",
    "#Sampling points\n",
    "fig_polluted.add_trace(go.Scatter3d(\n",
    "    x=points_x,\n",
    "    y=points_y,\n",
    "    z=points_z,\n",
    "    mode='markers',\n",
    "    marker=dict(\n",
    "        size=2,\n",
    "        color='black',\n",
    "        opacity=0.8\n",
    "    ),\n",
    "    showlegend=False,\n",
    "    text=points_id,\n",
    "    hoverinfo=\"text\"\n",
    "))\n",
    "\n",
    "# Set aspect ratio\n",
    "x_range = max(x) - min(x)\n",
    "y_range = max(y) - min(y)\n",
    "ratio_y = y_range / x_range\n",
    "\n",
    "# Configure figure layout\n",
    "fig_polluted.update_layout(\n",
    "    scene=dict(\n",
    "        xaxis_title=x_title,\n",
    "        yaxis_title=y_title,\n",
    "        zaxis_title=z_title,\n",
    "    ),\n",
    "    scene_aspectmode='manual',\n",
    "    scene_aspectratio=dict(x=1, y=ratio_y, z=0.25),\n",
    "    title=str(title)+'(>'+str(MPL)+')'\n",
    ")\n",
    "#fig_polluted.show()\n",
    "_ = None"
   ]
  },
  {
   "cell_type": "markdown",
   "id": "e292473b-d659-4c23-9561-52f0d8a770b2",
   "metadata": {},
   "source": [
    "# Export visualization as HTML\n",
    "Save the visualizations as HTML files."
   ]
  },
  {
   "cell_type": "code",
   "execution_count": 13,
   "id": "7c974bec-b95b-49d2-8f50-ac2650e898da",
   "metadata": {},
   "outputs": [
    {
     "data": {
      "text/plain": [
       "'polluted_visualization.html'"
      ]
     },
     "execution_count": 13,
     "metadata": {},
     "output_type": "execute_result"
    }
   ],
   "source": [
    "# Save visualizations as HTML\n",
    "pyo.plot(fig, filename='volumetric_visualization.html', auto_open=False)\n",
    "pyo.plot(fig_polluted, filename='polluted_visualization.html', auto_open=False)"
   ]
  },
  {
   "cell_type": "code",
   "execution_count": null,
   "id": "09f24558-b532-4d92-8538-d4ec90e57ae6",
   "metadata": {
    "collapsed": true,
    "jupyter": {
     "outputs_hidden": true
    }
   },
   "outputs": [],
   "source": []
  }
 ],
 "metadata": {
  "kernelspec": {
   "display_name": "Python 3 (ipykernel)",
   "language": "python",
   "name": "python3"
  },
  "language_info": {
   "codemirror_mode": {
    "name": "ipython",
    "version": 3
   },
   "file_extension": ".py",
   "mimetype": "text/x-python",
   "name": "python",
   "nbconvert_exporter": "python",
   "pygments_lexer": "ipython3",
   "version": "3.12.5"
  }
 },
 "nbformat": 4,
 "nbformat_minor": 5
}
