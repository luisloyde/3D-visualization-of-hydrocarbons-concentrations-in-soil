{
 "cells": [
  {
   "cell_type": "markdown",
   "id": "8b2b5986-3deb-42b5-93b7-11db83717910",
   "metadata": {},
   "source": [
    "# Import libraries and define directory\n",
    "Loading necessary libraries and defininf the data file directory"
   ]
  },
  {
   "cell_type": "code",
   "execution_count": 1,
   "id": "5c31c094-b777-4a2f-9ce4-4ee8a931e66d",
   "metadata": {},
   "outputs": [],
   "source": [
    "# Import Libraries\n",
    "from pathlib import Path\n",
    "import os\n",
    "import pandas as pd\n",
    "import numpy as np\n",
    "from scipy.interpolate import griddata\n",
    "import plotly.graph_objs as go\n",
    "import math\n",
    "import plotly.offline as pyo\n",
    "\n",
    "# Set directory to where the data file is located\n",
    "files_directory = Path().resolve()\n",
    "os.chdir(files_directory)\n"
   ]
  },
  {
   "cell_type": "markdown",
   "id": "07f7fb6b-bbc7-4603-8c9c-a7258a2902f6",
   "metadata": {},
   "source": [
    "## Load data\n",
    "Load the data from the same directory of this code and inspect."
   ]
  },
  {
   "cell_type": "code",
   "execution_count": 3,
   "id": "276495da-1812-48df-9baf-33c37b84f85c",
   "metadata": {},
   "outputs": [
    {
     "name": "stdin",
     "output_type": "stream",
     "text": [
      "Enter the name of the data file in the directory where this file is (e.g., 'data.xlsx'):  data.xlsx\n"
     ]
    },
    {
     "name": "stdout",
     "output_type": "stream",
     "text": [
      "         ID      HFP      HFM  HFL           X            Y  PROF\n",
      "0  P1A1-0.2     0.00    0.000  0.0  387798.385  1996486.654   0.2\n",
      "1  P2A1-0.2   539.26   81.314  0.0  387783.425  1996507.111   0.2\n",
      "2  P3A1-0.2  1835.69  144.040  0.0  387770.806  1996527.589   0.2\n",
      "3  P4A1-0.2  2654.56    0.000  0.0  387749.637  1996514.566   0.2\n",
      "4  P5A1-0.2  2015.54  164.990  0.0  387762.466  1996493.378   0.2\n"
     ]
    }
   ],
   "source": [
    "# Load data file\n",
    "data_filename = input(\"Enter the name of the data file in the directory where this file is (e.g., 'data.xlsx'): \")\n",
    "data = pd.read_excel(data_filename)\n",
    "print(data.head())  # Display first few rows of data"
   ]
  },
  {
   "cell_type": "markdown",
   "id": "1ca2d81a-07f5-451a-a039-29724c249269",
   "metadata": {},
   "source": [
    "# Define relevant variables\n",
    "Assign the name of columns for UTM X & Y coordinates, depth, pollutant concentration and its threshold value."
   ]
  },
  {
   "cell_type": "code",
   "execution_count": 7,
   "id": "fd5bf205-8323-4316-a2a0-93f9293d3736",
   "metadata": {},
   "outputs": [
    {
     "name": "stdin",
     "output_type": "stream",
     "text": [
      "Enter the name of the column for the X coordinate (e.g., X):  X\n",
      "Enter the name of the column for the Y coordinate (e.g., Y):  Y\n",
      "Enter the name of the column for depth (e.g., PROF):  PROF\n",
      "Enter the name of the column for pollutant concentration (e.g., HFP):  HFP\n",
      "Enter the Maximum Permissible Limit (MPL) for pollutant concentration (e.g., 3000):  3000\n",
      "Enter the units for pollutant concentration (e.g., 'mg/kg', 'ppm'):  'mg/kg'\n"
     ]
    }
   ],
   "source": [
    "# Define key variables\n",
    "x_column = input(\"Enter the name of the column for the X coordinate (e.g., X): \")\n",
    "y_column = input(\"Enter the name of the column for the Y coordinate (e.g., Y): \")\n",
    "z_column = input(\"Enter the name of the column for depth (e.g., PROF): \")\n",
    "pollutant_column = input(\"Enter the name of the column for pollutant concentration (e.g., HFP): \")\n",
    "MPL = float(input(\"Enter the Maximum Permissible Limit (MPL) for pollutant concentration (e.g., 3000): \"))\n",
    "units = input(\"Enter the units for pollutant concentration (e.g., 'mg/kg', 'ppm'): \")\n",
    "\n",
    "x = data[x_column].values  # UTM X coordinate\n",
    "y = data[y_column].values  # UTM Y coordinate\n",
    "z = data[z_column].values * -1  # Depth values (inverted)\n",
    "pollutant_concentration = data[pollutant_column].values  # Pollutant concentration"
   ]
  },
  {
   "cell_type": "markdown",
   "id": "9df42c3a-febd-4903-ac2d-c6e0dd5fc28b",
   "metadata": {},
   "source": [
    "# Generate 3D grid\n",
    "Generate a 3D grid to interpolate the data over the defined spatial region."
   ]
  },
  {
   "cell_type": "code",
   "execution_count": 8,
   "id": "c0c50421-928c-4cc3-9323-deb634e08031",
   "metadata": {},
   "outputs": [],
   "source": [
    "# Create a 3D grid\n",
    "grid_x, grid_y, grid_z = np.mgrid[\n",
    "    min(x):max(x):1,\n",
    "    min(y):max(y):1,\n",
    "    min(z):0:0.1\n",
    "]"
   ]
  },
  {
   "cell_type": "markdown",
   "id": "f097c5da-ad67-4c81-8151-e57d12e3f2e5",
   "metadata": {},
   "source": [
    "## Interpolate data on the 3D grid\n",
    "Interpolate the pollutant data onto the 3D grid."
   ]
  },
  {
   "cell_type": "code",
   "execution_count": 9,
   "id": "40e6bef2-30fa-4de0-8bd5-2ed2dc6f2b6f",
   "metadata": {},
   "outputs": [],
   "source": [
    "# Interpolation\n",
    "grid_pollutant = griddata((x, y, z), pollutant_concentration, (grid_x, grid_y, grid_z), method='linear')"
   ]
  },
  {
   "cell_type": "markdown",
   "id": "95a2c662-ada0-4e77-a69b-ec7a4f106734",
   "metadata": {},
   "source": [
    "# 3D visualization of pollutant distribution\n",
    "Create a 3D visualization of the pollutant distribution using Plotly."
   ]
  },
  {
   "cell_type": "code",
   "execution_count": null,
   "id": "52a68d23-b679-4829-94c9-4ddb271df645",
   "metadata": {},
   "outputs": [],
   "source": [
    "# 3D Visualization\n",
    "max_plot = math.ceil(pollutant_concentration.max() / MPL) * MPL\n",
    "fig = go.Figure(data=go.Volume(\n",
    "    x=grid_x.flatten(),\n",
    "    y=grid_y.flatten(),\n",
    "    z=grid_z.flatten(),\n",
    "    value=grid_pollutant.flatten(),\n",
    "    isomin=0,\n",
    "    isomax=max_plot,\n",
    "    opacity=0.5,\n",
    "    surface_count=int(max_plot / MPL)\n",
    "))\n",
    "\n",
    "# Set aspect ratio\n",
    "x_range = max(x) - min(x)\n",
    "y_range = max(y) - min(y)\n",
    "ratio_y = y_range / x_range\n",
    "\n",
    "x_title = input(\"Enter the X-axis title (e.g., 'UTM E (m)'): \")\n",
    "y_title = input(\"Enter the Y-axis title (e.g., 'UTM N (m)'): \")\n",
    "z_title = input(\"Enter the X-axis title (e.g., 'Depth (m)'): \")\n",
    "color_title = input(\"Enter the color bar title (e.g., 'Concentration'): \")\n",
    "title = input(\"Enter the plot title (e.g., 'HFP in soil'): \")\n",
    "\n",
    "# Configure figure layout\n",
    "fig.update_layout(\n",
    "    scene=dict(\n",
    "        xaxis_title=x_title,\n",
    "        yaxis_title=y_title,\n",
    "        zaxis_title=z_title,\n",
    "        coloraxis_colorbar=dict(\n",
    "            title=f\"{color_title} ({units})\"\n",
    "    ),\n",
    "    scene_aspectmode='manual',\n",
    "    scene_aspectratio=dict(x=1, y=ratio_y, z=0.25),\n",
    "    title='Pollutant concentration in soil'\n",
    ")\n",
    "fig.show()"
   ]
  },
  {
   "cell_type": "markdown",
   "id": "6ba5f7d9-5c94-4129-8dc0-abb71d970689",
   "metadata": {},
   "source": [
    "# Estimation of polluted volume\n",
    "Estimate the volume where the pollutant concentration exceeds the Maximum Permissible Limit (MPL)"
   ]
  },
  {
   "cell_type": "code",
   "execution_count": 10,
   "id": "d3395053-e58f-48df-b98e-fa04244f491b",
   "metadata": {},
   "outputs": [
    {
     "name": "stdout",
     "output_type": "stream",
     "text": [
      "The soil volume with pollutant concentrations above MPL is: 1122.72 m^3\n"
     ]
    }
   ],
   "source": [
    "# Create a mask for cells with concentrations above MPL\n",
    "mask = grid_pollutant > MPL\n",
    "\n",
    "# Determine grid resolution\n",
    "delta_x = (max(x) - min(x)) / grid_x.shape[0]\n",
    "delta_y = (max(y) - min(y)) / grid_y.shape[1]\n",
    "delta_z = (max(z) - min(z)) / grid_z.shape[2]\n",
    "\n",
    "# Calculate cell volume\n",
    "volume_cell = delta_x * delta_y * delta_z\n",
    "\n",
    "# Count cells exceeding MPL and calculate total polluted volume\n",
    "num_cells_above = np.sum(mask)\n",
    "volume_total_above = num_cells_above * volume_cell\n",
    "\n",
    "print(f\"The soil volume with pollutant concentrations above MPL is: {volume_total_above:.2f} m^3\")"
   ]
  },
  {
   "cell_type": "markdown",
   "id": "67804a61-28ab-45ba-894c-214085bb9ab3",
   "metadata": {},
   "source": [
    "# Determine maximum contamination depth\n",
    "Identify the maximum depth where pollutant concentration exceeds MPL."
   ]
  },
  {
   "cell_type": "code",
   "execution_count": 11,
   "id": "92903ba3-4e9d-430a-af14-c7dbf9988855",
   "metadata": {},
   "outputs": [
    {
     "name": "stdout",
     "output_type": "stream",
     "text": [
      "Maximum depth with pollutant concentration above MPL: -1.20 meters\n"
     ]
    }
   ],
   "source": [
    "# Maximum contamination depth\n",
    "depths_above = grid_z[mask]\n",
    "maximum_depth = np.min(depths_above)\n",
    "\n",
    "print(f\"Maximum depth with pollutant concentration above MPL: {maximum_depth:.2f} meters\")"
   ]
  },
  {
   "cell_type": "markdown",
   "id": "3507fe88-7d6f-4219-805c-c006afb63974",
   "metadata": {},
   "source": [
    "# 3D visualization of polluted volume\n",
    "Create a filtered 3D visualization showing only the volume exceeding MPL."
   ]
  },
  {
   "cell_type": "code",
   "execution_count": null,
   "id": "9d3a9f06-a505-429c-bac8-5c810f83d1a8",
   "metadata": {},
   "outputs": [],
   "source": [
    "# Visualization of polluted volume\n",
    "filtered_grid_x = grid_x[mask]\n",
    "filtered_grid_y = grid_y[mask]\n",
    "filtered_grid_z = grid_z[mask]\n",
    "filtered_pollutant = grid_pollutant[mask]\n",
    "\n",
    "fig_contaminated = go.Figure(data=go.Volume(\n",
    "    x=filtered_grid_x.flatten(),\n",
    "    y=filtered_grid_y.flatten(),\n",
    "    z=filtered_grid_z.flatten(),\n",
    "    value=filtered_pollutant.flatten(),\n",
    "    isomin=MPL,\n",
    "    isomax=max_plot,\n",
    "    opacity=0.5,\n",
    "    surface_count=int((max_plot - MPL) / MPL)\n",
    "))\n",
    "\n",
    "fig_contaminated.update_layout(\n",
    "    scene=dict(\n",
    "        xaxis_title='UTM X (m)',\n",
    "        yaxis_title='UTM Y (m)',\n",
    "        zaxis_title='Depth (m)'\n",
    "    ),\n",
    "    scene_aspectmode='manual',\n",
    "    scene_aspectratio=dict(x=1, y=ratio_y, z=0.25),\n",
    "    title=f'Polluted volume (pollutant concentrations > {MPL})'\n",
    ")\n",
    "fig_contaminated.show()"
   ]
  },
  {
   "cell_type": "markdown",
   "id": "e292473b-d659-4c23-9561-52f0d8a770b2",
   "metadata": {},
   "source": [
    "# Export visualization as HTML\n",
    "Save the visualizations as HTML files."
   ]
  },
  {
   "cell_type": "code",
   "execution_count": null,
   "id": "7c974bec-b95b-49d2-8f50-ac2650e898da",
   "metadata": {},
   "outputs": [],
   "source": [
    "# Save visualizations as HTML\n",
    "pyo.plot(fig, filename='volumetric_visualization.html', auto_open=False)\n",
    "pyo.plot(fig_contaminated, filename='polluted_visualization.html', auto_open=False)"
   ]
  }
 ],
 "metadata": {
  "kernelspec": {
   "display_name": "Python 3 (ipykernel)",
   "language": "python",
   "name": "python3"
  },
  "language_info": {
   "codemirror_mode": {
    "name": "ipython",
    "version": 3
   },
   "file_extension": ".py",
   "mimetype": "text/x-python",
   "name": "python",
   "nbconvert_exporter": "python",
   "pygments_lexer": "ipython3",
   "version": "3.12.4"
  }
 },
 "nbformat": 4,
 "nbformat_minor": 5
}
